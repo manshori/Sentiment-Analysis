{
 "cells": [
  {
   "cell_type": "code",
   "execution_count": 7,
   "metadata": {},
   "outputs": [],
   "source": [
    "from __future__ import division\n",
    "import db_mysql as db_mysql\n",
    "\n",
    "totalNaive = {'positif':0,'negatif':0,'netral':0,'data':0};"
   ]
  },
  {
   "cell_type": "code",
   "execution_count": 22,
   "metadata": {},
   "outputs": [],
   "source": [
    "def initial():\n",
    "    global totalNaive;\n",
    "\n",
    "    sql = '''SELECT count(*)\n",
    "                FROM opinion WHERE sentiment = 1''';\n",
    "    db_mysql.executeSql(sql);\n",
    "    result = db_mysql.fetch('all');\n",
    "    totalNaive['positif'] = result[0]['count(*)'];\n",
    "\n",
    "    sql = '''SELECT count(*)\n",
    "                FROM opinion WHERE sentiment = -1''';\n",
    "    db_mysql.executeSql(sql);\n",
    "    result = db_mysql.fetch('all');\n",
    "    totalNaive['negatif'] = result[0]['count(*)'];\n",
    "\n",
    "    sql = '''SELECT count(*)\n",
    "                FROM opinion WHERE sentiment = 0''';\n",
    "    db_mysql.executeSql(sql);\n",
    "    result = db_mysql.fetch('all');\n",
    "    totalNaive['netral'] = result[0]['count(*)'];\n",
    "\n",
    "    totalNaive['data'] = totalNaive['positif'] + totalNaive['negatif'] + totalNaive['netral'];"
   ]
  },
  {
   "cell_type": "code",
   "execution_count": 25,
   "metadata": {},
   "outputs": [],
   "source": [
    "def probably(word,senti):   \n",
    "    global totalNaive;\n",
    "    initial()\n",
    "    sql = 'SELECT count(*) FROM opinion WHERE sentiment = '+str(senti)+' AND content LIKE \"%'+word+'%\"'\n",
    "    db_mysql.executeSql(sql);\n",
    "    inWord = db_mysql.fetch('all')[0]['count(*)'];\n",
    "\n",
    "    if(senti == 1):\n",
    "        return (inWord/totalNaive['positif']) * (totalNaive['positif']/totalNaive['data']);\n",
    "    elif(senti == -1):\n",
    "        return (inWord/totalNaive['negatif']) * (totalNaive['negatif']/totalNaive['data']);\n",
    "    elif(senti == 0):\n",
    "        return (inWord/totalNaive['netral']) * (totalNaive['netral']/totalNaive['data']);"
   ]
  },
  {
   "cell_type": "code",
   "execution_count": 19,
   "metadata": {},
   "outputs": [],
   "source": [
    "def counting(word):\n",
    "    pPos    = probably(word,1);\n",
    "    pNeg    = probably(word,-1);\n",
    "    pNetral = probably(word,0);\n",
    "    \n",
    "    if(pPos >= pNeg):\n",
    "        if(pPos >= pNetral):\n",
    "            result = 1;\n",
    "        else:\n",
    "            if(pNeg >= pNetral):\n",
    "                result = -1;\n",
    "            else:\n",
    "                result = 0;\n",
    "    elif(pNeg >= pNetral):\n",
    "        result = -1;\n",
    "    else:\n",
    "        result = 0;\n",
    "\n",
    "    # print pPos;\n",
    "    # print pNeg;\n",
    "    # print pNetral;\n",
    "    # print result;\n",
    "    # print \"===========\";\n",
    "    return result;"
   ]
  },
  {
   "cell_type": "code",
   "execution_count": 20,
   "metadata": {},
   "outputs": [],
   "source": [
    "def play(sentence):\n",
    "    sentence = sentence.lower()\n",
    "    sentence=sentence.split(\" \")\n",
    "    sentiment = 0;\n",
    "    for word in sentence:\n",
    "        sentiment = sentiment + counting(word);\n",
    "        print(word,counting(word),sentiment)\n",
    "    if(sentiment > 0):\n",
    "        return 1;\n",
    "    elif(sentiment < 0):\n",
    "        return -1;\n",
    "    else:\n",
    "        return 0;"
   ]
  },
  {
   "cell_type": "code",
   "execution_count": null,
   "metadata": {},
   "outputs": [],
   "source": [
    "play(\"Jokowi pandai sekali baik\")"
   ]
  }
 ],
 "metadata": {
  "kernelspec": {
   "display_name": "Python 3",
   "language": "python",
   "name": "python3"
  },
  "language_info": {
   "codemirror_mode": {
    "name": "ipython",
    "version": 3
   },
   "file_extension": ".py",
   "mimetype": "text/x-python",
   "name": "python",
   "nbconvert_exporter": "python",
   "pygments_lexer": "ipython3",
   "version": "3.7.1"
  }
 },
 "nbformat": 4,
 "nbformat_minor": 2
}
