{
 "cells": [
  {
   "cell_type": "code",
   "execution_count": 46,
   "metadata": {},
   "outputs": [],
   "source": [
    "import re\n",
    "import csv\n",
    "import pickle\n",
    "import pandas as pd\n",
    "import numpy as np\n",
    "from sklearn.feature_extraction.text import TfidfVectorizer\n",
    "#from sklearn.feature_extraction.text import CountVectorizer\n",
    "from sklearn.metrics import roc_auc_score\n",
    "#from sklearn.linear_model import LogisticRegression\n",
    "from sklearn.naive_bayes import MultinomialNB\n",
    "from sklearn.metrics import confusion_matrix\n",
    "from sklearn.metrics import accuracy_score\n",
    "from wordcloud import WordCloud,STOPWORDS\n",
    "import matplotlib.pyplot as plt\n",
    "%matplotlib inline"
   ]
  },
  {
   "cell_type": "code",
   "execution_count": 47,
   "metadata": {},
   "outputs": [],
   "source": [
    "#start processing data twitter\n",
    "def processTweet(tweet):\n",
    "    # process the tweets\n",
    "    #Convert to lower case\n",
    "    tweet = tweet.lower()\n",
    "    #Convert www.* or https?://* to URL\n",
    "    tweet = re.sub('((www\\.[^\\s]+)|(https?://[^\\s]+))','URL',tweet)\n",
    "    #Convert @username to AT_USER\n",
    "    tweet = re.sub('@[^\\s]+','AT_USER',tweet)\n",
    "    #Remove additional white spaces\n",
    "    tweet = re.sub('[\\s]+', ' ', tweet)\n",
    "    #Replace #word with word\n",
    "    tweet = re.sub(r'#([^\\s]+)', r'\\1', tweet)\n",
    "    #trim\n",
    "    tweet = tweet.strip('\\'\"')\n",
    "#     print(tweet)\n",
    "#     print(' ')\n",
    "    return tweet\n",
    "#end"
   ]
  },
  {
   "cell_type": "code",
   "execution_count": 48,
   "metadata": {},
   "outputs": [],
   "source": [
    "#initialize stopWords\n",
    "stopWords = []"
   ]
  },
  {
   "cell_type": "code",
   "execution_count": 49,
   "metadata": {},
   "outputs": [],
   "source": [
    "#start replaceTwoOrMore\n",
    "def replaceTwoOrMore(s):\n",
    "    #look for 2 or more repetitions of character and replace with the character itself\n",
    "    pattern = re.compile(r\"(.)\\1{1,}\", re.DOTALL)\n",
    "    return pattern.sub(r\"\\1\\1\", s)\n",
    "#end"
   ]
  },
  {
   "cell_type": "code",
   "execution_count": 50,
   "metadata": {},
   "outputs": [],
   "source": [
    "#start getStopWordList\n",
    "def getStopWordList(stopWordListFileName):\n",
    "    #read the stopwords file and build a list\n",
    "    stopWords = []\n",
    "    stopWords.append('AT_USER')\n",
    "    stopWords.append('URL')\n",
    "\n",
    "    fp = open(stopWordListFileName, 'r')\n",
    "    line = fp.readline()\n",
    "    while line:\n",
    "        word = line.strip()\n",
    "        stopWords.append(word)\n",
    "        line = fp.readline()\n",
    "    fp.close()\n",
    "    return stopWords\n",
    "#end"
   ]
  },
  {
   "cell_type": "code",
   "execution_count": 51,
   "metadata": {},
   "outputs": [],
   "source": [
    "#start getfeatureVector\n",
    "def getFeatureVector(tweet):\n",
    "    featureVector = []\n",
    "    # tweet=stemmer.stem(tweet)\n",
    "    #split tweet into words\n",
    "    words = tweet.split()\n",
    "    for w in words:\n",
    "        #replace two or more with two occurrences\n",
    "        w = replaceTwoOrMore(w)\n",
    "        #strip punctuation\n",
    "        w = w.strip('\\'\"?,.')\n",
    "        #check if the word stats with an alphabet\n",
    "        val = re.search(r\"^[a-zA-Z][a-zA-Z0-9]*$\", w)\n",
    "        #ignore if it is a stop word\n",
    "        if(w in stopWords or val is None):\n",
    "            continue\n",
    "        else:\n",
    "           featureVector.append(w.lower())\n",
    "#     print(featureVector)\n",
    "#     print(' ')\n",
    "    return featureVector\n",
    "#end"
   ]
  },
  {
   "cell_type": "code",
   "execution_count": 52,
   "metadata": {},
   "outputs": [],
   "source": [
    "#start replace singkatan/kata alay\n",
    "def translator(tweet):\n",
    "    j = 0\n",
    "    for kata in tweet:\n",
    "        with open('singkatan.txt', 'r') as csvfile:\n",
    "            # Reading file as CSV with delimiter as \"=\", so that abbreviation are stored in row[0] and phrases in row[1]\n",
    "            dataFromFile = csv.reader(csvfile, delimiter=\"=\")\n",
    "            for row in dataFromFile:\n",
    "                # Check if selected word matches short forms[LHS] in text file.\n",
    "                if kata == row[0]:\n",
    "                    # If match found replace it with its appropriate phrase in text file.\n",
    "                    tweet[j] = row[1]\n",
    "            csvfile.close()\n",
    "        j = j + 1\n",
    "#     print(' '.join(tweet))\n",
    "#     print('')\n",
    "    return tweet    \n",
    "#end process"
   ]
  },
  {
   "cell_type": "code",
   "execution_count": 53,
   "metadata": {},
   "outputs": [],
   "source": [
    "#Read the tweets one by one and process it\n",
    "df = pd.read_csv('pertama.csv', delimiter=',', index_col = False )\n",
    "line = df['text']\n",
    "st = open('konjungsi.csv', 'r')\n",
    "stopWords = getStopWordList('konjungsi.csv')\n",
    "result_list = []"
   ]
  },
  {
   "cell_type": "code",
   "execution_count": 54,
   "metadata": {},
   "outputs": [
    {
     "name": "stdout",
     "output_type": "stream",
     "text": [
      "[['selamat', 'bermedsos', 'temans', 'promosikan', 'kebaikan2', 'prabowo', 'promosikan', 'kebaikan2', 'mas', 'sandi', 'promosikan', 'partai2', 'koalisi', 'adil', 'pan', 'pks', 'demokrat', 'gerindra', 'promosikan', 'caleg2', 'pan', 'pks', 'demokrat', 'gerindra'], ['habib', 'rizieq', 'shihab', 'gelar', 'aksi', 'bela', 'tauhid', 'indonesia'], ['permintaan', 'maaf', 'saran', 'gus', 'solah', 'proses', 'hukum', 'ngomong', 'idiot', 'tersangka', 'tebang', 'pilih', 'pembakaran', 'bendera', 'tauhid', 'melukai', 'hati', 'umat', 'cepat', 'ratna', 'sarumpaet', 'adillah'], ['ketemu', 'mari', 'kuatkan', 'aksibelakalimattauhid', 'banserbertaubatlah', 'bapakhoaxnasional', 'karena', 'yuks', 'kenal'], ['gerakan', 'aksibelakalimattauhid', 'aksigarutbelatauhid', 'diikuti', 'saudara', 'aksisolorayabelatauhid', 'bergema', 'solo', 'siapkan', 'untuk', 'indonesiaadilmakmur'], ['trigger', 'menyatukan', 'umat', 'islam', 'disitulah', 'allah', 'jalan', 'bendera', 'tauhid', 'bakar', 'serentak', 'bendera', 'berkibar', 'diberbagai', 'kota', 'indonesia', 'terima', 'kasih', 'banser', 'menyatukan', 'hati'], ['aksigarutbelatauhid', 'belakalimattauhid', 'gelombang', 'massa', 'muslim', 'banserbertaubatlah', 'bubarkanbanser', 'muslim', 'bersatu', 'jadikan', 'nkri', 'indonesiaadilmakmur'], ['butuh', 'figure', 'sosok', 'berjiwa', 'nasionalis', 'sudah', 'selesai', 'merdeka', 'keputusan', 'merdeka', 'menentukan', 'sikap', 'dibawah', 'bayang', 'bayang', 'petugas', 'partai', 'prabowo', 'presiden', 'prabowosandi'], ['muslim', 'bangkit', 'aksigarutbertauhid', 'mari', 'gemakan', 'banserbertaubatlah', 'bubarkanbanser'], ['maaf', 'naikin', 'tagar', 'tidak', 'intropeksi', 'namanya', 'saja', 'ngundang', 'aksi', 'muslim', 'indonesia', 'banserbertaubatlah'], ['orang', 'bertanggung', 'maaf', 'terbuka', 'ngajarin', 'mendoktrin', 'anggota', 'banser', 'tidak', 'bersalah', 'dengan', 'kejadian', 'banserbertaubatlah'], ['komen', 'bebas', 'komen', 'terbaik', 'hadiah', 'hadiah', 'ban', 'serep'], ['tum', 'savicali', 'qitmr', 'ajarin', 'anak', 'buah', 'kamu', 'jangan', 'jumawa', 'kamu', 'pade', 'sudah', 'hitung', 'kenekatan', 'orang', 'banserbertaubatlah'], ['selamat', 'milad', 'babe', 'barokallahu', 'fii', 'umrik', 'mabruk', 'alfa', 'mabruk', 'semoga', 'senantiasa', 'kesehatan', 'keistiqomahan', 'berdakwah', 'seneng', 'babe', 'berdakwah', 'dakwah', 'kontemporer', 'banyak', 'diminati', 'jamaah'], ['catat', 'tolong', 'yaqut', 'jangan', 'kebanyakan', 'ngeles', 'kayak', 'bajay', 'mui', 'menilai', 'bendera', 'dibakar', 'oknum', 'banser', 'nu', 'berkalimat', 'tauhid', 'banserbertaubatlah'], ['sama', 'sya', 'allah', 'tanggapan', 'aagym', 'pembakaran', 'bendera', 'tauhid', 'garut', 'hati', 'syukurlah', 'kasusnya', 'sudah', 'biar', 'indonesia', 'adilmakmur'], ['cuplikan', 'video', 'cak', 'nun', 'angkat', 'bicara', 'pembakaran', 'bendera', 'tauhid', 'oknum', 'allah', 'jk', 'situasi', 'pingin', 'semoga', 'jadi', 'pasangan', 'pemimpin', 'indonesia', 'agr', 'adilmakmur', 'tentram', 'srt'], ['versi', 'ketua', 'gp', 'bendera', 'berceceran', 'diselematkan', 'bendera', 'tsb', 'jatuh', 'tidak', 'semestinya', 'bendera', 'baik', 'dibakar', 'bakar', 'dilipat', 'simpan', 'eh', 'alasan', 'bendera', 'hti'], ['woii', 'simak', 'nih', 'video', 'dibawah', 'polisi', 'saja', 'tidak', 'ngelarang', 'pikir', 'gerombolan', 'saja', 'sweeping2', 'indonesia', 'bubarkanbanser'], ['lautan', 'ummat', 'ulama', 'kyai', 'habaib', 'dukung', 'prabowo', 'sandi', 'jogjakarta', 'okt', 'wib'], ['selamat', 'bermedsos', 'temans', 'promosikan', 'kebaikan2', 'prabowo', 'promosikan', 'kebaikan2', 'mas', 'sandi', 'promosikan', 'partai2', 'koalisi', 'adil', 'pan', 'pks', 'demokrat', 'gerindra', 'promosikan', 'caleg2', 'pan', 'pks', 'demokrat', 'gerindra'], ['habib', 'rizieq', 'shihab', 'gelar', 'aksi', 'bela', 'tauhid', 'indonesia'], ['permintaan', 'maaf', 'saran', 'gus', 'solah', 'proses', 'hukum', 'ngomong', 'idiot', 'tersangka', 'tebang', 'pilih', 'pembakaran', 'bendera', 'tauhid', 'melukai', 'hati', 'umat', 'cepat', 'ratna', 'sarumpaet', 'adillah'], ['ketemu', 'mari', 'kuatkan', 'aksibelakalimattauhid', 'banserbertaubatlah', 'bapakhoaxnasional', 'karena', 'yuks', 'kenal'], ['gerakan', 'aksibelakalimattauhid', 'aksigarutbelatauhid', 'diikuti', 'saudara', 'aksisolorayabelatauhid', 'bergema', 'solo', 'siapkan', 'untuk', 'indonesiaadilmakmur'], ['trigger', 'menyatukan', 'umat', 'islam', 'disitulah', 'allah', 'jalan', 'bendera', 'tauhid', 'bakar', 'serentak', 'bendera', 'berkibar', 'diberbagai', 'kota', 'indonesia', 'terima', 'kasih', 'banser', 'menyatukan', 'hati'], ['aksigarutbelatauhid', 'belakalimattauhid', 'gelombang', 'massa', 'muslim', 'banserbertaubatlah', 'bubarkanbanser', 'muslim', 'bersatu', 'jadikan', 'nkri', 'indonesiaadilmakmur'], ['butuh', 'figure', 'sosok', 'berjiwa', 'nasionalis', 'sudah', 'selesai', 'merdeka', 'keputusan', 'merdeka', 'menentukan', 'sikap', 'dibawah', 'bayang', 'bayang', 'petugas', 'partai', 'prabowo', 'presiden', 'prabowosandi'], ['muslim', 'bangkit', 'aksigarutbertauhid', 'mari', 'gemakan', 'banserbertaubatlah', 'bubarkanbanser'], ['maaf', 'naikin', 'tagar', 'tidak', 'intropeksi', 'namanya', 'saja', 'ngundang', 'aksi', 'muslim', 'indonesia', 'banserbertaubatlah'], ['orang', 'bertanggung', 'maaf', 'terbuka', 'ngajarin', 'mendoktrin', 'anggota', 'banser', 'tidak', 'bersalah', 'dengan', 'kejadian', 'banserbertaubatlah'], ['komen', 'bebas', 'komen', 'terbaik', 'hadiah', 'hadiah', 'ban', 'serep'], ['tum', 'savicali', 'qitmr', 'ajarin', 'anak', 'buah', 'kamu', 'jangan', 'jumawa', 'kamu', 'pade', 'sudah', 'hitung', 'kenekatan', 'orang', 'banserbertaubatlah'], ['selamat', 'milad', 'babe', 'barokallahu', 'fii', 'umrik', 'mabruk', 'alfa', 'mabruk', 'semoga', 'senantiasa', 'kesehatan', 'keistiqomahan', 'berdakwah', 'seneng', 'babe', 'berdakwah', 'dakwah', 'kontemporer', 'banyak', 'diminati', 'jamaah'], ['catat', 'tolong', 'yaqut', 'jangan', 'kebanyakan', 'ngeles', 'kayak', 'bajay', 'mui', 'menilai', 'bendera', 'dibakar', 'oknum', 'banser', 'nu', 'berkalimat', 'tauhid', 'banserbertaubatlah'], ['sama', 'sya', 'allah', 'tanggapan', 'aagym', 'pembakaran', 'bendera', 'tauhid', 'garut', 'hati', 'syukurlah', 'kasusnya', 'sudah', 'biar', 'indonesia', 'adilmakmur'], ['cuplikan', 'video', 'cak', 'nun', 'angkat', 'bicara', 'pembakaran', 'bendera', 'tauhid', 'oknum', 'allah', 'jk', 'situasi', 'pingin', 'semoga', 'jadi', 'pasangan', 'pemimpin', 'indonesia', 'agr', 'adilmakmur', 'tentram', 'srt'], ['versi', 'ketua', 'gp', 'bendera', 'berceceran', 'diselematkan', 'bendera', 'tsb', 'jatuh', 'tidak', 'semestinya', 'bendera', 'baik', 'dibakar', 'bakar', 'dilipat', 'simpan', 'eh', 'alasan', 'bendera', 'hti'], ['woii', 'simak', 'nih', 'video', 'dibawah', 'polisi', 'saja', 'tidak', 'ngelarang', 'pikir', 'gerombolan', 'saja', 'sweeping2', 'indonesia', 'bubarkanbanser'], ['lautan', 'ummat', 'ulama', 'kyai', 'habaib', 'dukung', 'prabowo', 'sandi', 'jogjakarta', 'okt', 'wib'], ['selamat', 'bermedsos', 'temans', 'promosikan', 'kebaikan2', 'prabowo', 'promosikan', 'kebaikan2', 'mas', 'sandi', 'promosikan', 'partai2', 'koalisi', 'adil', 'pan', 'pks', 'demokrat', 'gerindra', 'promosikan', 'caleg2', 'pan', 'pks', 'demokrat', 'gerindra'], ['habib', 'rizieq', 'shihab', 'gelar', 'aksi', 'bela', 'tauhid', 'indonesia'], ['permintaan', 'maaf', 'saran', 'gus', 'solah', 'proses', 'hukum', 'ngomong', 'idiot', 'tersangka', 'tebang', 'pilih', 'pembakaran', 'bendera', 'tauhid', 'melukai', 'hati', 'umat', 'cepat', 'ratna', 'sarumpaet', 'adillah'], ['ketemu', 'mari', 'kuatkan', 'aksibelakalimattauhid', 'banserbertaubatlah', 'bapakhoaxnasional', 'karena', 'yuks', 'kenal'], ['gerakan', 'aksibelakalimattauhid', 'aksigarutbelatauhid', 'diikuti', 'saudara', 'aksisolorayabelatauhid', 'bergema', 'solo', 'siapkan', 'untuk', 'indonesiaadilmakmur'], ['trigger', 'menyatukan', 'umat', 'islam', 'disitulah', 'allah', 'jalan', 'bendera', 'tauhid', 'bakar', 'serentak', 'bendera', 'berkibar', 'diberbagai', 'kota', 'indonesia', 'terima', 'kasih', 'banser', 'menyatukan', 'hati'], ['aksigarutbelatauhid', 'belakalimattauhid', 'gelombang', 'massa', 'muslim', 'banserbertaubatlah', 'bubarkanbanser', 'muslim', 'bersatu', 'jadikan', 'nkri', 'indonesiaadilmakmur'], ['butuh', 'figure', 'sosok', 'berjiwa', 'nasionalis', 'sudah', 'selesai', 'merdeka', 'keputusan', 'merdeka', 'menentukan', 'sikap', 'dibawah', 'bayang', 'bayang', 'petugas', 'partai', 'prabowo', 'presiden', 'prabowosandi'], ['muslim', 'bangkit', 'aksigarutbertauhid', 'mari', 'gemakan', 'banserbertaubatlah', 'bubarkanbanser'], ['maaf', 'naikin', 'tagar', 'tidak', 'intropeksi', 'namanya', 'saja', 'ngundang', 'aksi', 'muslim', 'indonesia', 'banserbertaubatlah'], ['orang', 'bertanggung', 'maaf', 'terbuka', 'ngajarin', 'mendoktrin', 'anggota', 'banser', 'tidak', 'bersalah', 'dengan', 'kejadian', 'banserbertaubatlah'], ['komen', 'bebas', 'komen', 'terbaik', 'hadiah', 'hadiah', 'ban', 'serep'], ['tum', 'savicali', 'qitmr', 'ajarin', 'anak', 'buah', 'kamu', 'jangan', 'jumawa', 'kamu', 'pade', 'sudah', 'hitung', 'kenekatan', 'orang', 'banserbertaubatlah'], ['selamat', 'milad', 'babe', 'barokallahu', 'fii', 'umrik', 'mabruk', 'alfa', 'mabruk', 'semoga', 'senantiasa', 'kesehatan', 'keistiqomahan', 'berdakwah', 'seneng', 'babe', 'berdakwah', 'dakwah', 'kontemporer', 'banyak', 'diminati', 'jamaah'], ['catat', 'tolong', 'yaqut', 'jangan', 'kebanyakan', 'ngeles', 'kayak', 'bajay', 'mui', 'menilai', 'bendera', 'dibakar', 'oknum', 'banser', 'nu', 'berkalimat', 'tauhid', 'banserbertaubatlah'], ['sama', 'sya', 'allah', 'tanggapan', 'aagym', 'pembakaran', 'bendera', 'tauhid', 'garut', 'hati', 'syukurlah', 'kasusnya', 'sudah', 'biar', 'indonesia', 'adilmakmur'], ['cuplikan', 'video', 'cak', 'nun', 'angkat', 'bicara', 'pembakaran', 'bendera', 'tauhid', 'oknum', 'allah', 'jk', 'situasi', 'pingin', 'semoga', 'jadi', 'pasangan', 'pemimpin', 'indonesia', 'agr', 'adilmakmur', 'tentram', 'srt'], ['versi', 'ketua', 'gp', 'bendera', 'berceceran', 'diselematkan', 'bendera', 'tsb', 'jatuh', 'tidak', 'semestinya', 'bendera', 'baik', 'dibakar', 'bakar', 'dilipat', 'simpan', 'eh', 'alasan', 'bendera', 'hti'], ['woii', 'simak', 'nih', 'video', 'dibawah', 'polisi', 'saja', 'tidak', 'ngelarang', 'pikir', 'gerombolan', 'saja', 'sweeping2', 'indonesia', 'bubarkanbanser'], ['lautan', 'ummat', 'ulama', 'kyai', 'habaib', 'dukung', 'prabowo', 'sandi', 'jogjakarta', 'okt', 'wib'], ['selamat', 'bermedsos', 'temans', 'promosikan', 'kebaikan2', 'prabowo', 'promosikan', 'kebaikan2', 'mas', 'sandi', 'promosikan', 'partai2', 'koalisi', 'adil', 'pan', 'pks', 'demokrat', 'gerindra', 'promosikan', 'caleg2', 'pan', 'pks', 'demokrat', 'gerindra'], ['habib', 'rizieq', 'shihab', 'gelar', 'aksi', 'bela', 'tauhid', 'indonesia'], ['permintaan', 'maaf', 'saran', 'gus', 'solah', 'proses', 'hukum', 'ngomong', 'idiot', 'tersangka', 'tebang', 'pilih', 'pembakaran', 'bendera', 'tauhid', 'melukai', 'hati', 'umat', 'cepat', 'ratna', 'sarumpaet', 'adillah'], ['ketemu', 'mari', 'kuatkan', 'aksibelakalimattauhid', 'banserbertaubatlah', 'bapakhoaxnasional', 'karena', 'yuks', 'kenal'], ['gerakan', 'aksibelakalimattauhid', 'aksigarutbelatauhid', 'diikuti', 'saudara', 'aksisolorayabelatauhid', 'bergema', 'solo', 'siapkan', 'untuk', 'indonesiaadilmakmur'], ['trigger', 'menyatukan', 'umat', 'islam', 'disitulah', 'allah', 'jalan', 'bendera', 'tauhid', 'bakar', 'serentak', 'bendera', 'berkibar', 'diberbagai', 'kota', 'indonesia', 'terima', 'kasih', 'banser', 'menyatukan', 'hati'], ['aksigarutbelatauhid', 'belakalimattauhid', 'gelombang', 'massa', 'muslim', 'banserbertaubatlah', 'bubarkanbanser', 'muslim', 'bersatu', 'jadikan', 'nkri', 'indonesiaadilmakmur'], ['butuh', 'figure', 'sosok', 'berjiwa', 'nasionalis', 'sudah', 'selesai', 'merdeka', 'keputusan', 'merdeka', 'menentukan', 'sikap', 'dibawah', 'bayang', 'bayang', 'petugas', 'partai', 'prabowo', 'presiden', 'prabowosandi'], ['muslim', 'bangkit', 'aksigarutbertauhid', 'mari', 'gemakan', 'banserbertaubatlah', 'bubarkanbanser'], ['maaf', 'naikin', 'tagar', 'tidak', 'intropeksi', 'namanya', 'saja', 'ngundang', 'aksi', 'muslim', 'indonesia', 'banserbertaubatlah'], ['orang', 'bertanggung', 'maaf', 'terbuka', 'ngajarin', 'mendoktrin', 'anggota', 'banser', 'tidak', 'bersalah', 'dengan', 'kejadian', 'banserbertaubatlah'], ['komen', 'bebas', 'komen', 'terbaik', 'hadiah', 'hadiah', 'ban', 'serep'], ['tum', 'savicali', 'qitmr', 'ajarin', 'anak', 'buah', 'kamu', 'jangan', 'jumawa', 'kamu', 'pade', 'sudah', 'hitung', 'kenekatan', 'orang', 'banserbertaubatlah'], ['selamat', 'milad', 'babe', 'barokallahu', 'fii', 'umrik', 'mabruk', 'alfa', 'mabruk', 'semoga', 'senantiasa', 'kesehatan', 'keistiqomahan', 'berdakwah', 'seneng', 'babe', 'berdakwah', 'dakwah', 'kontemporer', 'banyak', 'diminati', 'jamaah'], ['catat', 'tolong', 'yaqut', 'jangan', 'kebanyakan', 'ngeles', 'kayak', 'bajay', 'mui', 'menilai', 'bendera', 'dibakar', 'oknum', 'banser', 'nu', 'berkalimat', 'tauhid', 'banserbertaubatlah'], ['sama', 'sya', 'allah', 'tanggapan', 'aagym', 'pembakaran', 'bendera', 'tauhid', 'garut', 'hati', 'syukurlah', 'kasusnya', 'sudah', 'biar', 'indonesia', 'adilmakmur'], ['cuplikan', 'video', 'cak', 'nun', 'angkat', 'bicara', 'pembakaran', 'bendera', 'tauhid', 'oknum', 'allah', 'jk', 'situasi', 'pingin', 'semoga', 'jadi', 'pasangan', 'pemimpin', 'indonesia', 'agr', 'adilmakmur', 'tentram', 'srt'], ['versi', 'ketua', 'gp', 'bendera', 'berceceran', 'diselematkan', 'bendera', 'tsb', 'jatuh', 'tidak', 'semestinya', 'bendera', 'baik', 'dibakar', 'bakar', 'dilipat', 'simpan', 'eh', 'alasan', 'bendera', 'hti'], ['woii', 'simak', 'nih', 'video', 'dibawah', 'polisi', 'saja', 'tidak', 'ngelarang', 'pikir', 'gerombolan', 'saja', 'sweeping2', 'indonesia', 'bubarkanbanser'], ['lautan', 'ummat', 'ulama', 'kyai', 'habaib', 'dukung', 'prabowo', 'sandi', 'jogjakarta', 'okt', 'wib'], ['selamat', 'bermedsos', 'temans', 'promosikan', 'kebaikan2', 'prabowo', 'promosikan', 'kebaikan2', 'mas', 'sandi', 'promosikan', 'partai2', 'koalisi', 'adil', 'pan', 'pks', 'demokrat', 'gerindra', 'promosikan', 'caleg2', 'pan', 'pks', 'demokrat', 'gerindra'], ['habib', 'rizieq', 'shihab', 'gelar', 'aksi', 'bela', 'tauhid', 'indonesia'], ['permintaan', 'maaf', 'saran', 'gus', 'solah', 'proses', 'hukum', 'ngomong', 'idiot', 'tersangka', 'tebang', 'pilih', 'pembakaran', 'bendera', 'tauhid', 'melukai', 'hati', 'umat', 'cepat', 'ratna', 'sarumpaet', 'adillah'], ['ketemu', 'mari', 'kuatkan', 'aksibelakalimattauhid', 'banserbertaubatlah', 'bapakhoaxnasional', 'karena', 'yuks', 'kenal'], ['gerakan', 'aksibelakalimattauhid', 'aksigarutbelatauhid', 'diikuti', 'saudara', 'aksisolorayabelatauhid', 'bergema', 'solo', 'siapkan', 'untuk', 'indonesiaadilmakmur'], ['trigger', 'menyatukan', 'umat', 'islam', 'disitulah', 'allah', 'jalan', 'bendera', 'tauhid', 'bakar', 'serentak', 'bendera', 'berkibar', 'diberbagai', 'kota', 'indonesia', 'terima', 'kasih', 'banser', 'menyatukan', 'hati'], ['aksigarutbelatauhid', 'belakalimattauhid', 'gelombang', 'massa', 'muslim', 'banserbertaubatlah', 'bubarkanbanser', 'muslim', 'bersatu', 'jadikan', 'nkri', 'indonesiaadilmakmur'], ['butuh', 'figure', 'sosok', 'berjiwa', 'nasionalis', 'sudah', 'selesai', 'merdeka', 'keputusan', 'merdeka', 'menentukan', 'sikap', 'dibawah', 'bayang', 'bayang', 'petugas', 'partai', 'prabowo', 'presiden', 'prabowosandi'], ['muslim', 'bangkit', 'aksigarutbertauhid', 'mari', 'gemakan', 'banserbertaubatlah', 'bubarkanbanser'], ['maaf', 'naikin', 'tagar', 'tidak', 'intropeksi', 'namanya', 'saja', 'ngundang', 'aksi', 'muslim', 'indonesia', 'banserbertaubatlah'], ['orang', 'bertanggung', 'maaf', 'terbuka', 'ngajarin', 'mendoktrin', 'anggota', 'banser', 'tidak', 'bersalah', 'dengan', 'kejadian', 'banserbertaubatlah'], ['komen', 'bebas', 'komen', 'terbaik', 'hadiah', 'hadiah', 'ban', 'serep'], ['tum', 'savicali', 'qitmr', 'ajarin', 'anak', 'buah', 'kamu', 'jangan', 'jumawa', 'kamu', 'pade', 'sudah', 'hitung', 'kenekatan', 'orang', 'banserbertaubatlah'], ['selamat', 'milad', 'babe', 'barokallahu', 'fii', 'umrik', 'mabruk', 'alfa', 'mabruk', 'semoga', 'senantiasa', 'kesehatan', 'keistiqomahan', 'berdakwah', 'seneng', 'babe', 'berdakwah', 'dakwah', 'kontemporer', 'banyak', 'diminati', 'jamaah'], ['catat', 'tolong', 'yaqut', 'jangan', 'kebanyakan', 'ngeles', 'kayak', 'bajay', 'mui', 'menilai', 'bendera', 'dibakar', 'oknum', 'banser', 'nu', 'berkalimat', 'tauhid', 'banserbertaubatlah'], ['sama', 'sya', 'allah', 'tanggapan', 'aagym', 'pembakaran', 'bendera', 'tauhid', 'garut', 'hati', 'syukurlah', 'kasusnya', 'sudah', 'biar', 'indonesia', 'adilmakmur'], ['cuplikan', 'video', 'cak', 'nun', 'angkat', 'bicara', 'pembakaran', 'bendera', 'tauhid', 'oknum', 'allah', 'jk', 'situasi', 'pingin', 'semoga', 'jadi', 'pasangan', 'pemimpin', 'indonesia', 'agr', 'adilmakmur', 'tentram', 'srt'], ['versi', 'ketua', 'gp', 'bendera', 'berceceran', 'diselematkan', 'bendera', 'tsb', 'jatuh', 'tidak', 'semestinya', 'bendera', 'baik', 'dibakar', 'bakar', 'dilipat', 'simpan', 'eh', 'alasan', 'bendera', 'hti'], ['woii', 'simak', 'nih', 'video', 'dibawah', 'polisi', 'saja', 'tidak', 'ngelarang', 'pikir', 'gerombolan', 'saja', 'sweeping2', 'indonesia', 'bubarkanbanser'], ['lautan', 'ummat', 'ulama', 'kyai', 'habaib', 'dukung', 'prabowo', 'sandi', 'jogjakarta', 'okt', 'wib'], ['senang', 'ya', 'jaman', 'jokowi', 'pembangunan', 'infrastruktur', 'bisa', 'cepat', 'dinikmati', 'tol', 'desari', 'dharapkn', 'dapat', 'mpercepat', 'mobilitas', 'orang', 'barang', 'dari', 'jakarta', 'depok', 'kemenpu', 'ganti', 'saya', 'sih', 'no', 'ya'], ['dengerin', 'yukk', 'warga', 'warga', 'cinta', 'jokowi', 'lho', 'gaes', 'jokowi', 'hati', 'jokowi', 'tetapjokowi', 'tetapsayangjokowi'], ['hai', 'sobat', 'tahukah', 'kamuh', 'brand', 'indonesia', 'bernilai', 'asean', 'peringkat', 'dunia', 'evaluasi', 'nilai', 'merk', 'negara', 'berdasarkan', 'ekonomi', 'indonesia', 'baik'], ['mahluk', 'sengaja', 'mengibarkan', 'bendera', 'hti', 'khilafah', 'propaganda', 'menyerang', 'mahasiswa', 'gagal', 'gagal', 'pengeroyokan', 'ratna', 'sarumpaet', 'gagal', 'politikussontoloyo'], ['goyang', 'jokowi', 'ganti', 'ganti', 'jokowi', 'joko', 'widodo', 'jokowilagi', 'andreopa', 'kangdede78', 'budimandjatmiko', 'asapardan', 'ajunsii'], ['spanduk', 'spanjang', 'demo', 'kejadian', 'semqlam', 'sptnya', 'rencana', 'sejaka', 'tidak', 'kelanjutan', 'drama', 'rs', 'kemaren', 'gagal', 'intinya', 'menyerang', 'pemerintah', 'astaqfirullah'], ['tuh', 'keberhasilan', 'program', 'dana', 'desa', 'diakui', 'dunia', 'sentoloyo', 'suarany'], ['jokowi', 'sekedar', 'janji', 'kampanye', 'kerja', 'keras', 'kerja', 'cerdas', 'kerja', 'nyata', 'kerja', 'tuntas', 'jokowi1periodelagi', 'abaikan', 'koalisihoax'], ['alhamdulillah', 'bertambah', 'lagi', 'dukungan', 'pasangan', 'kali', 'sebelah', 'putar', 'haluan', 'mendukung', 'jokowi', 'menamakan', 'relawan', 'kotak', 'hijau', 'semoga', 'sadar', 'mendukung', 'jokowi'], ['rakyat', 'indonesia', 'patut', 'presiden', 'jokowi', 'menempati', 'urutan', 'deretan', 'muslim', 'berpengaruh', 'sedunia', 'jokowikeren', 'jokowiamin'], ['era', 'presiden', 'jokowi', 'juta', 'sertifikat', 'tanah', 'bagikan', 'masyarakat', 'diseluruh', 'indonesia', 'kerenkan', 'jokowilagi'], ['hati2', 'mudah', 'terprovokasi', 'politikussontoloyo', 'sengaja', 'memperdaya', 'masyarakat', 'kepentingan', 'kelompok', 'rapatkan', 'barisan', 'lawan', 'kamibersamabanser', 'makarberkedoktauhid'], ['lsi', 'pemilih', 'prabowo', 'kalangan', 'terpelajar', 'pindah', 'jokowi'], ['sertifikat', 'tanah', 'rakyat', 'presiden', 'jokowi', 'ngebut', 'sertifikat', 'warga', 'kali', 'daerah', 'jakarta', 'sertifikat', 'tanah', 'lho', 'jokowilagi'], ['pemerataan', 'keadilan', 'pembangunan', 'sabang', 'smpi', 'merauke', 'era', 'bapak', 'jokowi', 'indonesia', 'maju', 'lebh'], ['pedagang', 'pasar', 'marah', 'sandiuno', 'alat', 'politik', 'kampanye', 'pedagang', 'pasar', 'tergabung', 'dalam', 'komite', 'pedagang', 'pasar', 'menganggap', 'sandi', 'uno', 'menjadikan', 'pedagang', 'pasar', 'alat', 'politik', 'koalisiprabohong', 'belekok'], ['geram', 'jokowi', 'hati', 'hati', 'politikus', 'sontoloyo', 'presiden', 'menumpahkan', 'kekesalan', 'politikus', 'mengaitkan', 'program', 'pemerintah', 'politik'], ['alhamdulillah'], ['cerdaskan', 'masyarakat', 'kampanye', 'positif', 'pesan', 'bapak', 'jokowi', 'timses', 'adu', 'gagasan', 'jokowilagi'], ['mantap', 'gus', 'pengasuh', 'ponpes', 'tebu', 'ireng', 'bantah', 'dukung', 'prabowo', 'sandi'], ['senang', 'ya', 'jaman', 'jokowi', 'pembangunan', 'infrastruktur', 'bisa', 'cepat', 'dinikmati', 'tol', 'desari', 'dharapkn', 'dapat', 'mpercepat', 'mobilitas', 'orang', 'barang', 'dari', 'jakarta', 'depok', 'kemenpu', 'ganti', 'saya', 'sih', 'no', 'ya'], ['dengerin', 'yukk', 'warga', 'warga', 'cinta', 'jokowi', 'lho', 'gaes', 'jokowi', 'hati', 'jokowi', 'tetapjokowi', 'tetapsayangjokowi'], ['hai', 'sobat', 'tahukah', 'kamuh', 'brand', 'indonesia', 'bernilai', 'asean', 'peringkat', 'dunia', 'evaluasi', 'nilai', 'merk', 'negara', 'berdasarkan', 'ekonomi', 'indonesia', 'baik'], ['mahluk', 'sengaja', 'mengibarkan', 'bendera', 'hti', 'khilafah', 'propaganda', 'menyerang', 'mahasiswa', 'gagal', 'gagal', 'pengeroyokan', 'ratna', 'sarumpaet', 'gagal', 'politikussontoloyo'], ['goyang', 'jokowi', 'ganti', 'ganti', 'jokowi', 'joko', 'widodo', 'jokowilagi', 'andreopa', 'kangdede78', 'budimandjatmiko', 'asapardan', 'ajunsii'], ['spanduk', 'spanjang', 'demo', 'kejadian', 'semqlam', 'sptnya', 'rencana', 'sejaka', 'tidak', 'kelanjutan', 'drama', 'rs', 'kemaren', 'gagal', 'intinya', 'menyerang', 'pemerintah', 'astaqfirullah'], ['tuh', 'keberhasilan', 'program', 'dana', 'desa', 'diakui', 'dunia', 'sentoloyo', 'suarany'], ['jokowi', 'sekedar', 'janji', 'kampanye', 'kerja', 'keras', 'kerja', 'cerdas', 'kerja', 'nyata', 'kerja', 'tuntas', 'jokowi1periodelagi', 'abaikan', 'koalisihoax'], ['alhamdulillah', 'bertambah', 'lagi', 'dukungan', 'pasangan', 'kali', 'sebelah', 'putar', 'haluan', 'mendukung', 'jokowi', 'menamakan', 'relawan', 'kotak', 'hijau', 'semoga', 'sadar', 'mendukung', 'jokowi'], ['rakyat', 'indonesia', 'patut', 'presiden', 'jokowi', 'menempati', 'urutan', 'deretan', 'muslim', 'berpengaruh', 'sedunia', 'jokowikeren', 'jokowiamin'], ['era', 'presiden', 'jokowi', 'juta', 'sertifikat', 'tanah', 'bagikan', 'masyarakat', 'diseluruh', 'indonesia', 'kerenkan', 'jokowilagi'], ['hati2', 'mudah', 'terprovokasi', 'politikussontoloyo', 'sengaja', 'memperdaya', 'masyarakat', 'kepentingan', 'kelompok', 'rapatkan', 'barisan', 'lawan', 'kamibersamabanser', 'makarberkedoktauhid'], ['lsi', 'pemilih', 'prabowo', 'kalangan', 'terpelajar', 'pindah', 'jokowi'], ['sertifikat', 'tanah', 'rakyat', 'presiden', 'jokowi', 'ngebut', 'sertifikat', 'warga', 'kali', 'daerah', 'jakarta', 'sertifikat', 'tanah', 'lho', 'jokowilagi'], ['pemerataan', 'keadilan', 'pembangunan', 'sabang', 'smpi', 'merauke', 'era', 'bapak', 'jokowi', 'indonesia', 'maju', 'lebh'], ['pedagang', 'pasar', 'marah', 'sandiuno', 'alat', 'politik', 'kampanye', 'pedagang', 'pasar', 'tergabung', 'dalam', 'komite', 'pedagang', 'pasar', 'menganggap', 'sandi', 'uno', 'menjadikan', 'pedagang', 'pasar', 'alat', 'politik', 'koalisiprabohong', 'belekok'], ['geram', 'jokowi', 'hati', 'hati', 'politikus', 'sontoloyo', 'presiden', 'menumpahkan', 'kekesalan', 'politikus', 'mengaitkan', 'program', 'pemerintah', 'politik'], ['alhamdulillah'], ['cerdaskan', 'masyarakat', 'kampanye', 'positif', 'pesan', 'bapak', 'jokowi', 'timses', 'adu', 'gagasan', 'jokowilagi'], ['mantap', 'gus', 'pengasuh', 'ponpes', 'tebu', 'ireng', 'bantah', 'dukung', 'prabowo', 'sandi'], ['senang', 'ya', 'jaman', 'jokowi', 'pembangunan', 'infrastruktur', 'bisa', 'cepat', 'dinikmati', 'tol', 'desari', 'dharapkn', 'dapat', 'mpercepat', 'mobilitas', 'orang', 'barang', 'dari', 'jakarta', 'depok', 'kemenpu', 'ganti', 'saya', 'sih', 'no', 'ya'], ['dengerin', 'yukk', 'warga', 'warga', 'cinta', 'jokowi', 'lho', 'gaes', 'jokowi', 'hati', 'jokowi', 'tetapjokowi', 'tetapsayangjokowi'], ['hai', 'sobat', 'tahukah', 'kamuh', 'brand', 'indonesia', 'bernilai', 'asean', 'peringkat', 'dunia', 'evaluasi', 'nilai', 'merk', 'negara', 'berdasarkan', 'ekonomi', 'indonesia', 'baik'], ['mahluk', 'sengaja', 'mengibarkan', 'bendera', 'hti', 'khilafah', 'propaganda', 'menyerang', 'mahasiswa', 'gagal', 'gagal', 'pengeroyokan', 'ratna', 'sarumpaet', 'gagal', 'politikussontoloyo'], ['goyang', 'jokowi', 'ganti', 'ganti', 'jokowi', 'joko', 'widodo', 'jokowilagi', 'andreopa', 'kangdede78', 'budimandjatmiko', 'asapardan', 'ajunsii'], ['spanduk', 'spanjang', 'demo', 'kejadian', 'semqlam', 'sptnya', 'rencana', 'sejaka', 'tidak', 'kelanjutan', 'drama', 'rs', 'kemaren', 'gagal', 'intinya', 'menyerang', 'pemerintah', 'astaqfirullah'], ['tuh', 'keberhasilan', 'program', 'dana', 'desa', 'diakui', 'dunia', 'sentoloyo', 'suarany'], ['jokowi', 'sekedar', 'janji', 'kampanye', 'kerja', 'keras', 'kerja', 'cerdas', 'kerja', 'nyata', 'kerja', 'tuntas', 'jokowi1periodelagi', 'abaikan', 'koalisihoax'], ['alhamdulillah', 'bertambah', 'lagi', 'dukungan', 'pasangan', 'kali', 'sebelah', 'putar', 'haluan', 'mendukung', 'jokowi', 'menamakan', 'relawan', 'kotak', 'hijau', 'semoga', 'sadar', 'mendukung', 'jokowi'], ['rakyat', 'indonesia', 'patut', 'presiden', 'jokowi', 'menempati', 'urutan', 'deretan', 'muslim', 'berpengaruh', 'sedunia', 'jokowikeren', 'jokowiamin'], ['era', 'presiden', 'jokowi', 'juta', 'sertifikat', 'tanah', 'bagikan', 'masyarakat', 'diseluruh', 'indonesia', 'kerenkan', 'jokowilagi'], ['hati2', 'mudah', 'terprovokasi', 'politikussontoloyo', 'sengaja', 'memperdaya', 'masyarakat', 'kepentingan', 'kelompok', 'rapatkan', 'barisan', 'lawan', 'kamibersamabanser', 'makarberkedoktauhid'], ['lsi', 'pemilih', 'prabowo', 'kalangan', 'terpelajar', 'pindah', 'jokowi'], ['sertifikat', 'tanah', 'rakyat', 'presiden', 'jokowi', 'ngebut', 'sertifikat', 'warga', 'kali', 'daerah', 'jakarta', 'sertifikat', 'tanah', 'lho', 'jokowilagi'], ['pemerataan', 'keadilan', 'pembangunan', 'sabang', 'smpi', 'merauke', 'era', 'bapak', 'jokowi', 'indonesia', 'maju', 'lebh'], ['pedagang', 'pasar', 'marah', 'sandiuno', 'alat', 'politik', 'kampanye', 'pedagang', 'pasar', 'tergabung', 'dalam', 'komite', 'pedagang', 'pasar', 'menganggap', 'sandi', 'uno', 'menjadikan', 'pedagang', 'pasar', 'alat', 'politik', 'koalisiprabohong', 'belekok'], ['geram', 'jokowi', 'hati', 'hati', 'politikus', 'sontoloyo', 'presiden', 'menumpahkan', 'kekesalan', 'politikus', 'mengaitkan', 'program', 'pemerintah', 'politik'], ['alhamdulillah'], ['cerdaskan', 'masyarakat', 'kampanye', 'positif', 'pesan', 'bapak', 'jokowi', 'timses', 'adu', 'gagasan', 'jokowilagi'], ['mantap', 'gus', 'pengasuh', 'ponpes', 'tebu', 'ireng', 'bantah', 'dukung', 'prabowo', 'sandi'], ['senang', 'ya', 'jaman', 'jokowi', 'pembangunan', 'infrastruktur', 'bisa', 'cepat', 'dinikmati', 'tol', 'desari', 'dharapkn', 'dapat', 'mpercepat', 'mobilitas', 'orang', 'barang', 'dari', 'jakarta', 'depok', 'kemenpu', 'ganti', 'saya', 'sih', 'no', 'ya'], ['dengerin', 'yukk', 'warga', 'warga', 'cinta', 'jokowi', 'lho', 'gaes', 'jokowi', 'hati', 'jokowi', 'tetapjokowi', 'tetapsayangjokowi'], ['hai', 'sobat', 'tahukah', 'kamuh', 'brand', 'indonesia', 'bernilai', 'asean', 'peringkat', 'dunia', 'evaluasi', 'nilai', 'merk', 'negara', 'berdasarkan', 'ekonomi', 'indonesia', 'baik'], ['mahluk', 'sengaja', 'mengibarkan', 'bendera', 'hti', 'khilafah', 'propaganda', 'menyerang', 'mahasiswa', 'gagal', 'gagal', 'pengeroyokan', 'ratna', 'sarumpaet', 'gagal', 'politikussontoloyo'], ['goyang', 'jokowi', 'ganti', 'ganti', 'jokowi', 'joko', 'widodo', 'jokowilagi', 'andreopa', 'kangdede78', 'budimandjatmiko', 'asapardan', 'ajunsii'], ['spanduk', 'spanjang', 'demo', 'kejadian', 'semqlam', 'sptnya', 'rencana', 'sejaka', 'tidak', 'kelanjutan', 'drama', 'rs', 'kemaren', 'gagal', 'intinya', 'menyerang', 'pemerintah', 'astaqfirullah'], ['tuh', 'keberhasilan', 'program', 'dana', 'desa', 'diakui', 'dunia', 'sentoloyo', 'suarany'], ['jokowi', 'sekedar', 'janji', 'kampanye', 'kerja', 'keras', 'kerja', 'cerdas', 'kerja', 'nyata', 'kerja', 'tuntas', 'jokowi1periodelagi', 'abaikan', 'koalisihoax'], ['alhamdulillah', 'bertambah', 'lagi', 'dukungan', 'pasangan', 'kali', 'sebelah', 'putar', 'haluan', 'mendukung', 'jokowi', 'menamakan', 'relawan', 'kotak', 'hijau', 'semoga', 'sadar', 'mendukung', 'jokowi'], ['rakyat', 'indonesia', 'patut', 'presiden', 'jokowi', 'menempati', 'urutan', 'deretan', 'muslim', 'berpengaruh', 'sedunia', 'jokowikeren', 'jokowiamin'], ['era', 'presiden', 'jokowi', 'juta', 'sertifikat', 'tanah', 'bagikan', 'masyarakat', 'diseluruh', 'indonesia', 'kerenkan', 'jokowilagi'], ['hati2', 'mudah', 'terprovokasi', 'politikussontoloyo', 'sengaja', 'memperdaya', 'masyarakat', 'kepentingan', 'kelompok', 'rapatkan', 'barisan', 'lawan', 'kamibersamabanser', 'makarberkedoktauhid'], ['lsi', 'pemilih', 'prabowo', 'kalangan', 'terpelajar', 'pindah', 'jokowi'], ['sertifikat', 'tanah', 'rakyat', 'presiden', 'jokowi', 'ngebut', 'sertifikat', 'warga', 'kali', 'daerah', 'jakarta', 'sertifikat', 'tanah', 'lho', 'jokowilagi'], ['pemerataan', 'keadilan', 'pembangunan', 'sabang', 'smpi', 'merauke', 'era', 'bapak', 'jokowi', 'indonesia', 'maju', 'lebh'], ['pedagang', 'pasar', 'marah', 'sandiuno', 'alat', 'politik', 'kampanye', 'pedagang', 'pasar', 'tergabung', 'dalam', 'komite', 'pedagang', 'pasar', 'menganggap', 'sandi', 'uno', 'menjadikan', 'pedagang', 'pasar', 'alat', 'politik', 'koalisiprabohong', 'belekok'], ['geram', 'jokowi', 'hati', 'hati', 'politikus', 'sontoloyo', 'presiden', 'menumpahkan', 'kekesalan', 'politikus', 'mengaitkan', 'program', 'pemerintah', 'politik'], ['alhamdulillah'], ['cerdaskan', 'masyarakat', 'kampanye', 'positif', 'pesan', 'bapak', 'jokowi', 'timses', 'adu', 'gagasan', 'jokowilagi'], ['mantap', 'gus', 'pengasuh', 'ponpes', 'tebu', 'ireng', 'bantah', 'dukung', 'prabowo', 'sandi'], ['senang', 'ya', 'jaman', 'jokowi', 'pembangunan', 'infrastruktur', 'bisa', 'cepat', 'dinikmati', 'tol', 'desari', 'dharapkn', 'dapat', 'mpercepat', 'mobilitas', 'orang', 'barang', 'dari', 'jakarta', 'depok', 'kemenpu', 'ganti', 'saya', 'sih', 'no', 'ya'], ['dengerin', 'yukk', 'warga', 'warga', 'cinta', 'jokowi', 'lho', 'gaes', 'jokowi', 'hati', 'jokowi', 'tetapjokowi', 'tetapsayangjokowi'], ['hai', 'sobat', 'tahukah', 'kamuh', 'brand', 'indonesia', 'bernilai', 'asean', 'peringkat', 'dunia', 'evaluasi', 'nilai', 'merk', 'negara', 'berdasarkan', 'ekonomi', 'indonesia', 'baik'], ['mahluk', 'sengaja', 'mengibarkan', 'bendera', 'hti', 'khilafah', 'propaganda', 'menyerang', 'mahasiswa', 'gagal', 'gagal', 'pengeroyokan', 'ratna', 'sarumpaet', 'gagal', 'politikussontoloyo'], ['goyang', 'jokowi', 'ganti', 'ganti', 'jokowi', 'joko', 'widodo', 'jokowilagi', 'andreopa', 'kangdede78', 'budimandjatmiko', 'asapardan', 'ajunsii'], ['spanduk', 'spanjang', 'demo', 'kejadian', 'semqlam', 'sptnya', 'rencana', 'sejaka', 'tidak', 'kelanjutan', 'drama', 'rs', 'kemaren', 'gagal', 'intinya', 'menyerang', 'pemerintah', 'astaqfirullah'], ['tuh', 'keberhasilan', 'program', 'dana', 'desa', 'diakui', 'dunia', 'sentoloyo', 'suarany'], ['jokowi', 'sekedar', 'janji', 'kampanye', 'kerja', 'keras', 'kerja', 'cerdas', 'kerja', 'nyata', 'kerja', 'tuntas', 'jokowi1periodelagi', 'abaikan', 'koalisihoax'], ['alhamdulillah', 'bertambah', 'lagi', 'dukungan', 'pasangan', 'kali', 'sebelah', 'putar', 'haluan', 'mendukung', 'jokowi', 'menamakan', 'relawan', 'kotak', 'hijau', 'semoga', 'sadar', 'mendukung', 'jokowi'], ['rakyat', 'indonesia', 'patut', 'presiden', 'jokowi', 'menempati', 'urutan', 'deretan', 'muslim', 'berpengaruh', 'sedunia', 'jokowikeren', 'jokowiamin'], ['era', 'presiden', 'jokowi', 'juta', 'sertifikat', 'tanah', 'bagikan', 'masyarakat', 'diseluruh', 'indonesia', 'kerenkan', 'jokowilagi'], ['hati2', 'mudah', 'terprovokasi', 'politikussontoloyo', 'sengaja', 'memperdaya', 'masyarakat', 'kepentingan', 'kelompok', 'rapatkan', 'barisan', 'lawan', 'kamibersamabanser', 'makarberkedoktauhid'], ['lsi', 'pemilih', 'prabowo', 'kalangan', 'terpelajar', 'pindah', 'jokowi'], ['sertifikat', 'tanah', 'rakyat', 'presiden', 'jokowi', 'ngebut', 'sertifikat', 'warga', 'kali', 'daerah', 'jakarta', 'sertifikat', 'tanah', 'lho', 'jokowilagi'], ['pemerataan', 'keadilan', 'pembangunan', 'sabang', 'smpi', 'merauke', 'era', 'bapak', 'jokowi', 'indonesia', 'maju', 'lebh'], ['pedagang', 'pasar', 'marah', 'sandiuno', 'alat', 'politik', 'kampanye', 'pedagang', 'pasar', 'tergabung', 'dalam', 'komite', 'pedagang', 'pasar', 'menganggap', 'sandi', 'uno', 'menjadikan', 'pedagang', 'pasar', 'alat', 'politik', 'koalisiprabohong', 'belekok'], ['geram', 'jokowi', 'hati', 'hati', 'politikus', 'sontoloyo', 'presiden', 'menumpahkan', 'kekesalan', 'politikus', 'mengaitkan', 'program', 'pemerintah', 'politik'], ['alhamdulillah'], ['cerdaskan', 'masyarakat', 'kampanye', 'positif', 'pesan', 'bapak', 'jokowi', 'timses', 'adu', 'gagasan', 'jokowilagi'], ['mantap', 'gus', 'pengasuh', 'ponpes', 'tebu', 'ireng', 'bantah', 'dukung', 'prabowo', 'sandi']]\n"
     ]
    }
   ],
   "source": [
    "for x in range(0, len(line)):\n",
    "    processedTweet = processTweet(line[x])\n",
    "#     print(processedTweet)\n",
    "    featureVector = getFeatureVector(processedTweet)\n",
    "#     print(featureVector)\n",
    "    replaceAbb = translator(featureVector)\n",
    "#     print(replaceAbb)\n",
    "    result_list.append(replaceAbb)   \n",
    "#     result_list.append(temp)\n",
    "#     line = fp.readline()\n",
    "#end loop\n",
    "print(result_list)"
   ]
  },
  {
   "cell_type": "code",
   "execution_count": 55,
   "metadata": {},
   "outputs": [],
   "source": [
    "tempStr = []\n",
    "for baris in range(0, len(result_list)):\n",
    "    tempo=\"\"\n",
    "    for kolom in range(0,len(result_list[baris])):\n",
    "        tempo = tempo+\" \"+result_list[baris][kolom]\n",
    "    tempStr.append(tempo)\n",
    "# print(type(tempStr))"
   ]
  },
  {
   "cell_type": "code",
   "execution_count": 56,
   "metadata": {},
   "outputs": [
    {
     "name": "stderr",
     "output_type": "stream",
     "text": [
      "c:\\users\\m. anshori\\appdata\\local\\programs\\python\\python36\\lib\\site-packages\\ipykernel_launcher.py:3: SettingWithCopyWarning: \n",
      "A value is trying to be set on a copy of a slice from a DataFrame\n",
      "\n",
      "See the caveats in the documentation: http://pandas.pydata.org/pandas-docs/stable/indexing.html#indexing-view-versus-copy\n",
      "  This is separate from the ipykernel package so we can avoid doing imports until\n"
     ]
    },
    {
     "name": "stdout",
     "output_type": "stream",
     "text": [
      "0       selamat bermedsos temans promosikan kebaikan2...\n",
      "1       habib rizieq shihab gelar aksi bela tauhid in...\n",
      "2       permintaan maaf saran gus solah proses hukum ...\n",
      "3       ketemu mari kuatkan aksibelakalimattauhid ban...\n",
      "4       gerakan aksibelakalimattauhid aksigarutbelata...\n",
      "5       trigger menyatukan umat islam disitulah allah...\n",
      "6       aksigarutbelatauhid belakalimattauhid gelomba...\n",
      "7       butuh figure sosok berjiwa nasionalis sudah s...\n",
      "8       muslim bangkit aksigarutbertauhid mari gemaka...\n",
      "9       maaf naikin tagar tidak intropeksi namanya sa...\n",
      "10      orang bertanggung maaf terbuka ngajarin mendo...\n",
      "11      komen bebas komen terbaik hadiah hadiah ban s...\n",
      "12      tum savicali qitmr ajarin anak buah kamu jang...\n",
      "13      selamat milad babe barokallahu fii umrik mabr...\n",
      "14      catat tolong yaqut jangan kebanyakan ngeles k...\n",
      "15      sama sya allah tanggapan aagym pembakaran ben...\n",
      "16      cuplikan video cak nun angkat bicara pembakar...\n",
      "17      versi ketua gp bendera berceceran diselematka...\n",
      "18      woii simak nih video dibawah polisi saja tida...\n",
      "19      lautan ummat ulama kyai habaib dukung prabowo...\n",
      "20      selamat bermedsos temans promosikan kebaikan2...\n",
      "21      habib rizieq shihab gelar aksi bela tauhid in...\n",
      "22      permintaan maaf saran gus solah proses hukum ...\n",
      "23      ketemu mari kuatkan aksibelakalimattauhid ban...\n",
      "24      gerakan aksibelakalimattauhid aksigarutbelata...\n",
      "25      trigger menyatukan umat islam disitulah allah...\n",
      "26      aksigarutbelatauhid belakalimattauhid gelomba...\n",
      "27      butuh figure sosok berjiwa nasionalis sudah s...\n",
      "28      muslim bangkit aksigarutbertauhid mari gemaka...\n",
      "29      maaf naikin tagar tidak intropeksi namanya sa...\n",
      "                             ...                        \n",
      "170     era presiden jokowi juta sertifikat tanah bag...\n",
      "171     hati2 mudah terprovokasi politikussontoloyo s...\n",
      "172     lsi pemilih prabowo kalangan terpelajar pinda...\n",
      "173     sertifikat tanah rakyat presiden jokowi ngebu...\n",
      "174     pemerataan keadilan pembangunan sabang smpi m...\n",
      "175     pedagang pasar marah sandiuno alat politik ka...\n",
      "176     geram jokowi hati hati politikus sontoloyo pr...\n",
      "177                                        alhamdulillah\n",
      "178     cerdaskan masyarakat kampanye positif pesan b...\n",
      "179     mantap gus pengasuh ponpes tebu ireng bantah ...\n",
      "180     senang ya jaman jokowi pembangunan infrastruk...\n",
      "181     dengerin yukk warga warga cinta jokowi lho ga...\n",
      "182     hai sobat tahukah kamuh brand indonesia berni...\n",
      "183     mahluk sengaja mengibarkan bendera hti khilaf...\n",
      "184     goyang jokowi ganti ganti jokowi joko widodo ...\n",
      "185     spanduk spanjang demo kejadian semqlam sptnya...\n",
      "186     tuh keberhasilan program dana desa diakui dun...\n",
      "187     jokowi sekedar janji kampanye kerja keras ker...\n",
      "188     alhamdulillah bertambah lagi dukungan pasanga...\n",
      "189     rakyat indonesia patut presiden jokowi menemp...\n",
      "190     era presiden jokowi juta sertifikat tanah bag...\n",
      "191     hati2 mudah terprovokasi politikussontoloyo s...\n",
      "192     lsi pemilih prabowo kalangan terpelajar pinda...\n",
      "193     sertifikat tanah rakyat presiden jokowi ngebu...\n",
      "194     pemerataan keadilan pembangunan sabang smpi m...\n",
      "195     pedagang pasar marah sandiuno alat politik ka...\n",
      "196     geram jokowi hati hati politikus sontoloyo pr...\n",
      "197                                        alhamdulillah\n",
      "198     cerdaskan masyarakat kampanye positif pesan b...\n",
      "199     mantap gus pengasuh ponpes tebu ireng bantah ...\n",
      "Name: text, Length: 200, dtype: object\n"
     ]
    }
   ],
   "source": [
    "tempData = df['text']\n",
    "for x in range(0,len(tempStr)):\n",
    "    df['text'][x] = tempStr[x]\n",
    "#     tempData.replace(x,tempStr[x])\n",
    "\n",
    "print(df['text'])\n"
   ]
  },
  {
   "cell_type": "code",
   "execution_count": 57,
   "metadata": {},
   "outputs": [
    {
     "data": {
      "text/html": [
       "<div>\n",
       "<style scoped>\n",
       "    .dataframe tbody tr th:only-of-type {\n",
       "        vertical-align: middle;\n",
       "    }\n",
       "\n",
       "    .dataframe tbody tr th {\n",
       "        vertical-align: top;\n",
       "    }\n",
       "\n",
       "    .dataframe thead th {\n",
       "        text-align: right;\n",
       "    }\n",
       "</style>\n",
       "<table border=\"1\" class=\"dataframe\">\n",
       "  <thead>\n",
       "    <tr style=\"text-align: right;\">\n",
       "      <th></th>\n",
       "      <th>username</th>\n",
       "      <th>user_handle</th>\n",
       "      <th>date</th>\n",
       "      <th>retweets</th>\n",
       "      <th>favorites</th>\n",
       "      <th>text</th>\n",
       "      <th>geological_location</th>\n",
       "      <th>mentions</th>\n",
       "      <th>hashtags</th>\n",
       "      <th>tweet_id</th>\n",
       "      <th>permalink</th>\n",
       "      <th>tokoh</th>\n",
       "      <th>sentiment</th>\n",
       "    </tr>\n",
       "  </thead>\n",
       "  <tbody>\n",
       "    <tr>\n",
       "      <th>0</th>\n",
       "      <td>Michel Adam</td>\n",
       "      <td>MichelaniaAdam</td>\n",
       "      <td>10/24/2018 8:35</td>\n",
       "      <td>132</td>\n",
       "      <td>309</td>\n",
       "      <td>selamat bermedsos temans promosikan kebaikan2...</td>\n",
       "      <td>NaN</td>\n",
       "      <td>NaN</td>\n",
       "      <td># #</td>\n",
       "      <td>1.05E+18</td>\n",
       "      <td>https://twitter.com/MichelaniaAdam/status/1054...</td>\n",
       "      <td>prabowo</td>\n",
       "      <td>positive</td>\n",
       "    </tr>\n",
       "    <tr>\n",
       "      <th>1</th>\n",
       "      <td>PurwaRaja</td>\n",
       "      <td>RajaPurwaBU</td>\n",
       "      <td>10/24/2018 6:13</td>\n",
       "      <td>101</td>\n",
       "      <td>218</td>\n",
       "      <td>habib rizieq shihab gelar aksi bela tauhid in...</td>\n",
       "      <td>NaN</td>\n",
       "      <td>NaN</td>\n",
       "      <td>#</td>\n",
       "      <td>1.05E+18</td>\n",
       "      <td>https://twitter.com/RajaPurwaBU/status/1054873...</td>\n",
       "      <td>prabowo</td>\n",
       "      <td>positive</td>\n",
       "    </tr>\n",
       "    <tr>\n",
       "      <th>2</th>\n",
       "      <td>CAK KHUM</td>\n",
       "      <td>CakKhum</td>\n",
       "      <td>10/23/2018 20:37</td>\n",
       "      <td>982</td>\n",
       "      <td>1714</td>\n",
       "      <td>permintaan maaf saran gus solah proses hukum ...</td>\n",
       "      <td>NaN</td>\n",
       "      <td>NaN</td>\n",
       "      <td>#</td>\n",
       "      <td>1.05E+18</td>\n",
       "      <td>https://twitter.com/CakKhum/status/10547285250...</td>\n",
       "      <td>jokowi</td>\n",
       "      <td>negative</td>\n",
       "    </tr>\n",
       "    <tr>\n",
       "      <th>3</th>\n",
       "      <td>#RelawanProSandi Official</td>\n",
       "      <td>RelawanProSandi</td>\n",
       "      <td>10/23/2018 20:34</td>\n",
       "      <td>1124</td>\n",
       "      <td>993</td>\n",
       "      <td>ketemu mari kuatkan aksibelakalimattauhid ban...</td>\n",
       "      <td>NaN</td>\n",
       "      <td>NaN</td>\n",
       "      <td># # # # # # #</td>\n",
       "      <td>1.05E+18</td>\n",
       "      <td>https://twitter.com/RelawanProSandi/status/105...</td>\n",
       "      <td>jowowi</td>\n",
       "      <td>negative</td>\n",
       "    </tr>\n",
       "    <tr>\n",
       "      <th>4</th>\n",
       "      <td>#RanupsPrabowoSandi Akun Official</td>\n",
       "      <td>RanupsProSandi</td>\n",
       "      <td>10/23/2018 19:47</td>\n",
       "      <td>201</td>\n",
       "      <td>374</td>\n",
       "      <td>gerakan aksibelakalimattauhid aksigarutbelata...</td>\n",
       "      <td>NaN</td>\n",
       "      <td>NaN</td>\n",
       "      <td># # # # # #</td>\n",
       "      <td>1.05E+18</td>\n",
       "      <td>https://twitter.com/RanupsProSandi/status/1054...</td>\n",
       "      <td>prabowo</td>\n",
       "      <td>positive</td>\n",
       "    </tr>\n",
       "  </tbody>\n",
       "</table>\n",
       "</div>"
      ],
      "text/plain": [
       "                            username      user_handle              date  \\\n",
       "0                        Michel Adam   MichelaniaAdam   10/24/2018 8:35   \n",
       "1                          PurwaRaja      RajaPurwaBU   10/24/2018 6:13   \n",
       "2                           CAK KHUM          CakKhum  10/23/2018 20:37   \n",
       "3          #RelawanProSandi Official  RelawanProSandi  10/23/2018 20:34   \n",
       "4  #RanupsPrabowoSandi Akun Official   RanupsProSandi  10/23/2018 19:47   \n",
       "\n",
       "   retweets  favorites                                               text  \\\n",
       "0       132        309   selamat bermedsos temans promosikan kebaikan2...   \n",
       "1       101        218   habib rizieq shihab gelar aksi bela tauhid in...   \n",
       "2       982       1714   permintaan maaf saran gus solah proses hukum ...   \n",
       "3      1124        993   ketemu mari kuatkan aksibelakalimattauhid ban...   \n",
       "4       201        374   gerakan aksibelakalimattauhid aksigarutbelata...   \n",
       "\n",
       "  geological_location mentions       hashtags  tweet_id  \\\n",
       "0                 NaN      NaN            # #  1.05E+18   \n",
       "1                 NaN      NaN              #  1.05E+18   \n",
       "2                 NaN      NaN              #  1.05E+18   \n",
       "3                 NaN      NaN  # # # # # # #  1.05E+18   \n",
       "4                 NaN      NaN    # # # # # #  1.05E+18   \n",
       "\n",
       "                                           permalink    tokoh sentiment  \n",
       "0  https://twitter.com/MichelaniaAdam/status/1054...  prabowo  positive  \n",
       "1  https://twitter.com/RajaPurwaBU/status/1054873...  prabowo  positive  \n",
       "2  https://twitter.com/CakKhum/status/10547285250...   jokowi  negative  \n",
       "3  https://twitter.com/RelawanProSandi/status/105...   jowowi  negative  \n",
       "4  https://twitter.com/RanupsProSandi/status/1054...  prabowo  positive  "
      ]
     },
     "execution_count": 57,
     "metadata": {},
     "output_type": "execute_result"
    }
   ],
   "source": [
    "df.head()"
   ]
  },
  {
   "cell_type": "code",
   "execution_count": 38,
   "metadata": {},
   "outputs": [],
   "source": [
    "df.to_csv(\"out.csv\",delimiter=',', index_col = False, encoding = \"ISO-8859-1\")"
   ]
  },
  {
   "cell_type": "code",
   "execution_count": 58,
   "metadata": {},
   "outputs": [],
   "source": [
    "df['Sentiment'] = df['Sentiment'].replace({'Positive': 1, 'Negative': -1,'Neutral': 0})"
   ]
  },
  {
   "cell_type": "code",
   "execution_count": 59,
   "metadata": {},
   "outputs": [
    {
     "data": {
      "text/html": [
       "<div>\n",
       "<style scoped>\n",
       "    .dataframe tbody tr th:only-of-type {\n",
       "        vertical-align: middle;\n",
       "    }\n",
       "\n",
       "    .dataframe tbody tr th {\n",
       "        vertical-align: top;\n",
       "    }\n",
       "\n",
       "    .dataframe thead th {\n",
       "        text-align: right;\n",
       "    }\n",
       "</style>\n",
       "<table border=\"1\" class=\"dataframe\">\n",
       "  <thead>\n",
       "    <tr style=\"text-align: right;\">\n",
       "      <th></th>\n",
       "      <th>username</th>\n",
       "      <th>user_handle</th>\n",
       "      <th>date</th>\n",
       "      <th>retweets</th>\n",
       "      <th>favorites</th>\n",
       "      <th>text</th>\n",
       "      <th>geological_location</th>\n",
       "      <th>mentions</th>\n",
       "      <th>hashtags</th>\n",
       "      <th>tweet_id</th>\n",
       "      <th>permalink</th>\n",
       "      <th>tokoh</th>\n",
       "      <th>sentiment</th>\n",
       "    </tr>\n",
       "  </thead>\n",
       "  <tbody>\n",
       "    <tr>\n",
       "      <th>0</th>\n",
       "      <td>Michel Adam</td>\n",
       "      <td>MichelaniaAdam</td>\n",
       "      <td>10/24/2018 8:35</td>\n",
       "      <td>132</td>\n",
       "      <td>309</td>\n",
       "      <td>selamat bermedsos temans promosikan kebaikan2...</td>\n",
       "      <td>NaN</td>\n",
       "      <td>NaN</td>\n",
       "      <td># #</td>\n",
       "      <td>1.05E+18</td>\n",
       "      <td>https://twitter.com/MichelaniaAdam/status/1054...</td>\n",
       "      <td>prabowo</td>\n",
       "      <td>1</td>\n",
       "    </tr>\n",
       "    <tr>\n",
       "      <th>1</th>\n",
       "      <td>PurwaRaja</td>\n",
       "      <td>RajaPurwaBU</td>\n",
       "      <td>10/24/2018 6:13</td>\n",
       "      <td>101</td>\n",
       "      <td>218</td>\n",
       "      <td>habib rizieq shihab gelar aksi bela tauhid in...</td>\n",
       "      <td>NaN</td>\n",
       "      <td>NaN</td>\n",
       "      <td>#</td>\n",
       "      <td>1.05E+18</td>\n",
       "      <td>https://twitter.com/RajaPurwaBU/status/1054873...</td>\n",
       "      <td>prabowo</td>\n",
       "      <td>1</td>\n",
       "    </tr>\n",
       "    <tr>\n",
       "      <th>2</th>\n",
       "      <td>CAK KHUM</td>\n",
       "      <td>CakKhum</td>\n",
       "      <td>10/23/2018 20:37</td>\n",
       "      <td>982</td>\n",
       "      <td>1714</td>\n",
       "      <td>permintaan maaf saran gus solah proses hukum ...</td>\n",
       "      <td>NaN</td>\n",
       "      <td>NaN</td>\n",
       "      <td>#</td>\n",
       "      <td>1.05E+18</td>\n",
       "      <td>https://twitter.com/CakKhum/status/10547285250...</td>\n",
       "      <td>jokowi</td>\n",
       "      <td>0</td>\n",
       "    </tr>\n",
       "    <tr>\n",
       "      <th>3</th>\n",
       "      <td>#RelawanProSandi Official</td>\n",
       "      <td>RelawanProSandi</td>\n",
       "      <td>10/23/2018 20:34</td>\n",
       "      <td>1124</td>\n",
       "      <td>993</td>\n",
       "      <td>ketemu mari kuatkan aksibelakalimattauhid ban...</td>\n",
       "      <td>NaN</td>\n",
       "      <td>NaN</td>\n",
       "      <td># # # # # # #</td>\n",
       "      <td>1.05E+18</td>\n",
       "      <td>https://twitter.com/RelawanProSandi/status/105...</td>\n",
       "      <td>jowowi</td>\n",
       "      <td>0</td>\n",
       "    </tr>\n",
       "    <tr>\n",
       "      <th>4</th>\n",
       "      <td>#RanupsPrabowoSandi Akun Official</td>\n",
       "      <td>RanupsProSandi</td>\n",
       "      <td>10/23/2018 19:47</td>\n",
       "      <td>201</td>\n",
       "      <td>374</td>\n",
       "      <td>gerakan aksibelakalimattauhid aksigarutbelata...</td>\n",
       "      <td>NaN</td>\n",
       "      <td>NaN</td>\n",
       "      <td># # # # # #</td>\n",
       "      <td>1.05E+18</td>\n",
       "      <td>https://twitter.com/RanupsProSandi/status/1054...</td>\n",
       "      <td>prabowo</td>\n",
       "      <td>1</td>\n",
       "    </tr>\n",
       "  </tbody>\n",
       "</table>\n",
       "</div>"
      ],
      "text/plain": [
       "                            username      user_handle              date  \\\n",
       "0                        Michel Adam   MichelaniaAdam   10/24/2018 8:35   \n",
       "1                          PurwaRaja      RajaPurwaBU   10/24/2018 6:13   \n",
       "2                           CAK KHUM          CakKhum  10/23/2018 20:37   \n",
       "3          #RelawanProSandi Official  RelawanProSandi  10/23/2018 20:34   \n",
       "4  #RanupsPrabowoSandi Akun Official   RanupsProSandi  10/23/2018 19:47   \n",
       "\n",
       "   retweets  favorites                                               text  \\\n",
       "0       132        309   selamat bermedsos temans promosikan kebaikan2...   \n",
       "1       101        218   habib rizieq shihab gelar aksi bela tauhid in...   \n",
       "2       982       1714   permintaan maaf saran gus solah proses hukum ...   \n",
       "3      1124        993   ketemu mari kuatkan aksibelakalimattauhid ban...   \n",
       "4       201        374   gerakan aksibelakalimattauhid aksigarutbelata...   \n",
       "\n",
       "  geological_location mentions       hashtags  tweet_id  \\\n",
       "0                 NaN      NaN            # #  1.05E+18   \n",
       "1                 NaN      NaN              #  1.05E+18   \n",
       "2                 NaN      NaN              #  1.05E+18   \n",
       "3                 NaN      NaN  # # # # # # #  1.05E+18   \n",
       "4                 NaN      NaN    # # # # # #  1.05E+18   \n",
       "\n",
       "                                           permalink    tokoh  sentiment  \n",
       "0  https://twitter.com/MichelaniaAdam/status/1054...  prabowo          1  \n",
       "1  https://twitter.com/RajaPurwaBU/status/1054873...  prabowo          1  \n",
       "2  https://twitter.com/CakKhum/status/10547285250...   jokowi          0  \n",
       "3  https://twitter.com/RelawanProSandi/status/105...   jowowi          0  \n",
       "4  https://twitter.com/RanupsProSandi/status/1054...  prabowo          1  "
      ]
     },
     "execution_count": 59,
     "metadata": {},
     "output_type": "execute_result"
    }
   ],
   "source": [
    "df.head()"
   ]
  },
  {
   "cell_type": "code",
   "execution_count": 60,
   "metadata": {},
   "outputs": [],
   "source": [
    "from sklearn.model_selection import train_test_split\n",
    "X_train, X_test, y_train, y_test = train_test_split(df['text'], \n",
    "                                                    df['sentiment'],\n",
    "                                                    random_state=0)"
   ]
  },
  {
   "cell_type": "code",
   "execution_count": 61,
   "metadata": {},
   "outputs": [
    {
     "data": {
      "text/plain": [
       "Int64Index([ 18, 170, 107,  98, 177, 182,   5, 146,  12, 152,  61, 125, 180,\n",
       "            154,  80,   7,  33, 130,  37,  74, 183, 145,  45, 159,  60, 123,\n",
       "            179, 185, 122,  44,  16,  55, 150, 111,  22, 189, 129,   4,  83,\n",
       "            106, 134,  66,  26, 113, 168,  63,   8,  75, 118, 143],\n",
       "           dtype='int64')"
      ]
     },
     "execution_count": 61,
     "metadata": {},
     "output_type": "execute_result"
    }
   ],
   "source": [
    "X_test.index"
   ]
  },
  {
   "cell_type": "code",
   "execution_count": 62,
   "metadata": {},
   "outputs": [
    {
     "name": "stdout",
     "output_type": "stream",
     "text": [
      "150 50\n"
     ]
    }
   ],
   "source": [
    "print(len(y_train), len(y_test))"
   ]
  },
  {
   "cell_type": "code",
   "execution_count": 78,
   "metadata": {},
   "outputs": [
    {
     "name": "stdout",
     "output_type": "stream",
     "text": [
      "X_train first entry:\n",
      "\n",
      "  versi ketua gp bendera berceceran diselematkan bendera tsb jatuh tidak semestinya bendera baik dibakar bakar dilipat simpan eh alasan bendera hti\n",
      "\n",
      "\n",
      "X_train shape:  (150,)\n"
     ]
    }
   ],
   "source": [
    "print('X_train first entry:\\n\\n', X_train.iloc[3])\n",
    "print('\\n\\nX_train shape: ', X_train.shape)"
   ]
  },
  {
   "cell_type": "code",
   "execution_count": 66,
   "metadata": {},
   "outputs": [
    {
     "data": {
      "text/plain": [
       "226"
      ]
     },
     "execution_count": 66,
     "metadata": {},
     "output_type": "execute_result"
    }
   ],
   "source": [
    "vect = TfidfVectorizer(min_df=5, stop_words='english', use_idf=True, ngram_range=(1,2)).fit(X_train)\n",
    "len(vect.get_feature_names())"
   ]
  },
  {
   "cell_type": "code",
   "execution_count": 67,
   "metadata": {},
   "outputs": [],
   "source": [
    "X_train_vectorized = vect.transform(X_train)"
   ]
  },
  {
   "cell_type": "code",
   "execution_count": 68,
   "metadata": {},
   "outputs": [
    {
     "name": "stdout",
     "output_type": "stream",
     "text": [
      "AUC:  0.9615384615384616\n",
      "Confusion Metrix:  [[24  0]\n",
      " [ 2 24]]\n",
      "ACC:  0.96\n"
     ]
    }
   ],
   "source": [
    "mnb = MultinomialNB()\n",
    "\n",
    "mnb.fit(X_train_vectorized, y_train)\n",
    "\n",
    "predictions = mnb.predict(vect.transform(X_test))\n",
    "\n",
    "print('AUC: ', roc_auc_score(y_test, predictions))\n",
    "print('Confusion Metrix: ', confusion_matrix(y_test,predictions))\n",
    "print('ACC: ', accuracy_score(y_test, predictions))"
   ]
  },
  {
   "cell_type": "code",
   "execution_count": 80,
   "metadata": {},
   "outputs": [
    {
     "name": "stdout",
     "output_type": "stream",
     "text": [
      "[0]\n"
     ]
    }
   ],
   "source": [
    "print(mnb.predict(vect.transform([' permintaan maaf saran gus solah proses hukum ngomong idiot tersangka tebang pilih pembakaran bendera tauhid melukai hati umat cepat ratna sarumpaet adillah'])))"
   ]
  },
  {
   "cell_type": "code",
   "execution_count": null,
   "metadata": {},
   "outputs": [],
   "source": []
  }
 ],
 "metadata": {
  "kernelspec": {
   "display_name": "Python 3",
   "language": "python",
   "name": "python3"
  },
  "language_info": {
   "codemirror_mode": {
    "name": "ipython",
    "version": 3
   },
   "file_extension": ".py",
   "mimetype": "text/x-python",
   "name": "python",
   "nbconvert_exporter": "python",
   "pygments_lexer": "ipython3",
   "version": "3.7.1"
  }
 },
 "nbformat": 4,
 "nbformat_minor": 2
}
