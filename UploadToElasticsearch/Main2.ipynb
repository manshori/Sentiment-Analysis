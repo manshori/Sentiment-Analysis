{
 "cells": [
  {
   "cell_type": "code",
   "execution_count": 3,
   "metadata": {},
   "outputs": [],
   "source": [
    "import re\n",
    "import csv\n",
    "import pickle\n",
    "import pandas as pd\n",
    "import numpy as np\n",
    "from sklearn.feature_extraction.text import TfidfVectorizer\n",
    "#from sklearn.feature_extraction.text import CountVectorizer\n",
    "from sklearn.metrics import roc_auc_score\n",
    "#from sklearn.linear_model import LogisticRegression\n",
    "from sklearn.naive_bayes import MultinomialNB\n",
    "from sklearn.metrics import confusion_matrix\n",
    "from sklearn.metrics import accuracy_score\n",
    "from datetime import datetime\n",
    "from elasticsearch import Elasticsearch #pip install Elasticsearch if not intalled yet\n",
    "import json\n",
    "import calendar\n",
    "import matplotlib.pyplot as plt\n",
    "%matplotlib inline"
   ]
  },
  {
   "cell_type": "code",
   "execution_count": 4,
   "metadata": {},
   "outputs": [],
   "source": [
    "#start processing data twitter\n",
    "def processTweet(tweet):\n",
    "    # process the tweets\n",
    "    #Convert to lower case\n",
    "    tweet = tweet.lower()\n",
    "    #Convert www.* or https?://* to URL\n",
    "    tweet = re.sub('((www\\.[^\\s]+)|(https?://[^\\s]+))','URL',tweet)\n",
    "    #Convert @username to AT_USER\n",
    "    tweet = re.sub('@[^\\s]+','AT_USER',tweet)\n",
    "    #Remove additional white spaces\n",
    "    tweet = re.sub('[\\s]+', ' ', tweet)\n",
    "    #Replace #word with word\n",
    "    tweet = re.sub(r'#([^\\s]+)', r'\\1', tweet)\n",
    "    #trim\n",
    "    tweet = tweet.strip('\\'\"')\n",
    "#     print(tweet)\n",
    "#     print(' ')\n",
    "    return tweet\n",
    "#end"
   ]
  },
  {
   "cell_type": "code",
   "execution_count": 5,
   "metadata": {},
   "outputs": [],
   "source": [
    "#initialize stopWords\n",
    "stopWords = []"
   ]
  },
  {
   "cell_type": "code",
   "execution_count": 6,
   "metadata": {},
   "outputs": [],
   "source": [
    "#start replaceTwoOrMore\n",
    "def replaceTwoOrMore(s):\n",
    "    #look for 2 or more repetitions of character and replace with the character itself\n",
    "    pattern = re.compile(r\"(.)\\1{1,}\", re.DOTALL)\n",
    "    return pattern.sub(r\"\\1\\1\", s)\n",
    "#end"
   ]
  },
  {
   "cell_type": "code",
   "execution_count": 7,
   "metadata": {},
   "outputs": [],
   "source": [
    "#start getStopWordList\n",
    "def getStopWordList(stopWordListFileName):\n",
    "    #read the stopwords file and build a list\n",
    "    stopWords = []\n",
    "    stopWords.append('AT_USER')\n",
    "    stopWords.append('URL')\n",
    "\n",
    "    fp = open(stopWordListFileName, 'r')\n",
    "    line = fp.readline()\n",
    "    while line:\n",
    "        word = line.strip()\n",
    "        stopWords.append(word)\n",
    "        line = fp.readline()\n",
    "    fp.close()\n",
    "    return stopWords\n",
    "#end"
   ]
  },
  {
   "cell_type": "code",
   "execution_count": 8,
   "metadata": {},
   "outputs": [],
   "source": [
    "#start getfeatureVector\n",
    "def getFeatureVector(tweet):\n",
    "    featureVector = []\n",
    "    # tweet=stemmer.stem(tweet)\n",
    "    #split tweet into words\n",
    "    words = tweet.split()\n",
    "    for w in words:\n",
    "        #replace two or more with two occurrences\n",
    "        w = replaceTwoOrMore(w)\n",
    "        #strip punctuation\n",
    "        w = w.strip('\\'\"?,.')\n",
    "        #check if the word stats with an alphabet\n",
    "        val = re.search(r\"^[a-zA-Z][a-zA-Z0-9]*$\", w)\n",
    "        #ignore if it is a stop word\n",
    "        if(w in stopWords or val is None):\n",
    "            continue\n",
    "        else:\n",
    "           featureVector.append(w.lower())\n",
    "#     print(featureVector)\n",
    "#     print(' ')\n",
    "    return featureVector\n",
    "#end"
   ]
  },
  {
   "cell_type": "code",
   "execution_count": 9,
   "metadata": {},
   "outputs": [],
   "source": [
    "#start replace singkatan/kata alay\n",
    "def translator(tweet):\n",
    "    j = 0\n",
    "    for kata in tweet:\n",
    "        with open('singkatan.txt', 'r') as csvfile:\n",
    "            # Reading file as CSV with delimiter as \"=\", so that abbreviation are stored in row[0] and phrases in row[1]\n",
    "            dataFromFile = csv.reader(csvfile, delimiter=\"=\")\n",
    "            for row in dataFromFile:\n",
    "                # Check if selected word matches short forms[LHS] in text file.\n",
    "                if kata == row[0]:\n",
    "                    # If match found replace it with its appropriate phrase in text file.\n",
    "                    tweet[j] = row[1]\n",
    "            csvfile.close()\n",
    "        j = j + 1\n",
    "#     print(' '.join(tweet))\n",
    "#     print('')\n",
    "    return tweet    \n",
    "#end process"
   ]
  },
  {
   "cell_type": "code",
   "execution_count": 11,
   "metadata": {},
   "outputs": [],
   "source": [
    "#Read the tweets one by one and process it\n",
    "df = pd.read_csv('jok.csv', delimiter=',', index_col = False, encoding = \"ISO-8859-1\" )\n",
    "line = df['Mentions']\n",
    "st = open('konjungsi.csv', 'r')\n",
    "stopWords = getStopWordList('konjungsi.csv')\n",
    "result_list = []"
   ]
  },
  {
   "cell_type": "code",
   "execution_count": 12,
   "metadata": {},
   "outputs": [
    {
     "name": "stdout",
     "output_type": "stream",
     "text": [
      "[['baca', 'sejarah', 'kenapa', 'privatisasi', 'bumn'], ['ancaman', 'gugatan', 'dilayangkan', 'partai', 'berkarya', 'jurubicara', 'tkn', 'ahmad', 'basarah', 'memancing', 'kemarahan'], ['presiden', 'jokowi', 'resmikan', 'tol', 'bocimi', 'seksi', 'i'], ['kalau', 'orang', 'rajin', 'sholat', 'puasa', 'trus', 'rajin', 'ngibulin', 'orang', 'bagaimana', 'tu', 'bro'], ['deklarasi', 'dukung', 'insya', 'allah', 'diumumkan', 'januari'], ['habib', 'bahar', 'enggan', 'maaf', 'presiden', 'jokowi'], ['enak', 'zaman'], ['dana', 'desa', 'meningkatkan', 'infrastruktur', 'desa', 'desa', 'mandiri', 'dan', 'sejahtera', 'jokowimembangundesa'], ['pasukan', 'masuk', 'monas', 'pasukan', 'guru', 'honorer', 'pasukan', 'ojol', 'lengkap', 'dengan', 'seragamnya', 'goodbye'], [], ['part'], ['dana', 'desa', 'meningkatkan', 'infrastruktur', 'desa', 'desa', 'mandiri', 'dan', 'sejahtera', 'jokowimembangundesa'], ['ancaman', 'politik', 'jokowi', 'semangatnya', 'persatuan'], ['reuniakbar212dimonas', 'kampanye', 'prabowo', 'memakai', 'bendera', 'hti', 'tidak', 'diundang', 'karena', 'bubarin', 'hti'], ['account', 'oposisi', 'pemerintah', 'block', 'dukung', 'jokowi', 'isi', 'kritiknya', 'fitnah'], ['bangga', 'polri', 'penuh', 'cinta', 'kasih', 'sayang'], ['prabowo', 'subianto', 'didukung', 'anak', 'cucu', 'jendral', 'sudirman', 'pendiri', 'nu'], ['saya', 'kaum'], ['mantap', 'bikinindonesiamaju'], ['hina', 'jokowi', 'habib', 'bahar', 'bin', 'smith', 'terancam', 'penjara'], ['desa', 'hebat', 'indonesia', 'kuat', 'jokowimembangundesa', 'tppikepahiang'], ['merayakan', 'guru', 'nasional', 'stadion', 'pakansari', 'bogor', 'pagi'], ['jokowi'], ['bangga', 'polri', 'penuh', 'cinta', 'kasih', 'sayang'], ['jokowi', 'membangun', 'indonesia', 'jokowilagi'], ['teriak', 'nyuruh', 'buy', 'back', 'indosat'], ['terima', 'kasih', 'proyek', 'mangkrak', 'kelar', 'sesi', 'presiden', 'diganti'], ['deklarasi', 'dukung', 'insya', 'allah', 'diumumkan', 'januari'], ['resmikan', 'sesi', 'tol', 'bocimi', 'keheranan', 'mangkrak', 'padahal', 'pemandangan', 'bagus'], ['kalau', 'saja', 'pemerintah', 'tau', 'bikin', 'semangat', 'mendukung', 'adlh'], ['iwan', 'fals', 'ngaku', 'netral', 'jaman', 'orba', 'jokowi', 'keliatan', 'tergusur', 'ngaku', 'netral'], ['enak', 'zaman'], ['kasian', 'nggak', 'kenal', 'ya', 'taunya', 'jokowi', 'kalau', 'rakyat'], [], ['khawatirkan', 'acara', 'jokowi', 'istiqlal'], ['maha', 'pendukung', 'jokowi', 'ocehanya'], ['saudaraku'], ['jokowi', 'resmikan', 'tol', 'bocimi', 'mangkrak'], ['jaman', 'jokowi', 'senang', 'susah', 'buk', 'tidak', 'na', 'orang', 'pergi', 'jakarta', 'reunian'], ['ikhtiar', 'presiden', 'jokowi', 'mewujudkan', 'keadilan', 'sosial', 'rakyat', 'indonesia', 'terus', 'digencarkan', 'dengan'], ['video', 'perbandingan', 'intelektual', 'prabowo', 'vs', 'jokowi', 'video', 'capres', 'tidak', 'adu'], ['hina', 'jokowi', 'habib', 'bahar', 'bin', 'smith', 'terancam', 'penjara'], ['jokowi', 'bikin', 'puisi', 'ya'], ['biar', 'tidak', 'ngabur', 'seperti', 'si'], ['untuk', 'konektivitas', 'pemerintahan', 'membangun', 'infrastruktur', 'mendukung'], ['iwan', 'fals', 'pindah', 'lihat', 'posisi', 'jokowi', 'dibawah', 'par', 'iwan', 'bilang', 'netral', 'iwan', 'sangat'], ['iwan', 'fals', 'ngaku', 'netral', 'jaman', 'orba', 'jokowi', 'keliatan', 'tergusur', 'ngaku', 'netral'], ['insyaa allah', 'gaji', 'guru', 'honorer', 'pemerintahan', 'bapak', 'jokowi', 'baik', 'berkuasa', 'sehat'], ['ahok', 'dimusuhi', 'dianggap', 'china', 'keras'], ['kesempatan', 'presiden', 'joko', 'widodo', 'komitmen', 'indonesia', 'mendukung', 'kemerdekaan'], ['bingkisan', 'diembat', 'topeng', 'dicampakan'], ['peserta', 'reuniakbar212', 'pendukung', 'pendukung'], ['analogi', 'ganteng', 'analoginya', 'ngaruhnya', 'saya', 'mihak', 'jokowi', 'sudah', 'putus', 'arahh', 'nampaknya'], ['teman', 'militan', 'jokowi', 'ahok'], ['tempe', 'khot'], ['mesjid', 'benci', 'kalau', 'jokowi', 'dalamnya', 'sholat'], ['kebangetan', 'menteri', 'disitu', 'jokowi', 'digempur', 'sulit', 'wartawan', 'satupun', 'contekan'], ['terima', 'kasih', 'jokowi', 'sudah', 'membangun', 'desa', 'untuk', 'bangsa', 'jokowimembangundesa', 'tppjawatimur', 'tppilamongan'], ['jokowi'], ['bentar', 'kejang2', 'juga', 'nyinyir'], ['tidak'], ['saudaraku'], ['kalau', 'aku', 'jokowi', 'da', 'tabok', 'den', 'gara2', 'ektabilitas', 'saya', 'turun', 'mknya', 'diam', 'tidak'], ['iwan', 'fals', 'ngaku', 'netral', 'jaman', 'orba', 'jokowi', 'keliatan', 'tergusur', 'ngaku', 'netral'], ['iwan', 'sudah', 'membaca', 'peta', 'politik', 'kalau', 'kalah', 'netral'], ['namanya', 'kritik', 'sih', 'namanya', 'negara', 'demokrasi'], ['suasana', 'pelatihan', 'peningkatan', 'kapasitas', 'pendamping', 'desa', 'aceh', 'grand', 'nanggroe', 'hotel'], ['insyaa allah', 'ne', 'non', 'muslim', 'pendukung'], ['ancaman', 'anak', 'buah', 'peserta', 'nyanyi', 'turunkan', 'jokowi', 'tanggung'], ['prabowo', 'subianto', 'didukung', 'anak', 'cucu', 'jendral', 'sudirman', 'pendiri', 'nu'], ['salah', 'jokowi'], ['jokowi', 'dicengin', 'mulu', 'sabar', 'strategi', 'ya', 'kebayang', 'kalau', 'cengan', 'haid', 'jaman', 'harto'], ['dengerin', 'temen', 'tidur', 'sma', 'temennya', 'lgi', 'monas', 'jokowi', 'tidak', 'undang', 'beliau', 'tidak', 'dateng'], ['maaf', 'jokowi', 'tidak', 'diundang'], ['keren', 'ngebut', 'bangun', 'infrastruktur', 'asyik', 'menikmati', 'lancarnya', 'perjalanan'], ['suka', 'video', 'terbaru', 'wajib', 'haram', 'pilih', 'dalilnya', 'habib', 'bahar', 'bin'], ['pembentukan', 'bumdes', 'duwet', 'kec', 'bojong', 'kab', 'pekalongan', 'smg', 'menjalankan', 'amanah'], ['teras', 'berita', 'alasan', 'bahar', 'bin', 'smith', 'tolak', 'maaf'], ['teras', 'berita', 'panitia', 'reuni', 'pembatalan', 'undangan', 'jokowi', 'terkait', 'bahar'], [], ['biarkan', 'sj', 'reuni', 'sampe', 'jokowi', 'memimpin', 'indonesia', 'untuk', 'kalinya'], ['pemuja', 'sok', 'ceramahin', 'orang'], ['mantap', 'jokowilagi', 'kerjakita'], ['saya', 'prihatin', 'orang2', 'enggak', 'puas', 'pemerintah', 'jokowi', 'melacurkan', 'logika', 'nuraninya', 'dengan'], ['saya', 'sih', 'setuju', 'langgar', 'bisa', 'menyelamatkan', 'rakyat', 'tidak'], ['enak', 'zaman'], ['suka2', 'kamu', 'deh', 'bong'], ['mantaf', 'maju', 'membangun', 'desa', 'jokowi'], ['gilss', 'tidak', 'kerennya', 'sih', 'bang'], ['selamat', 'jendral', 'amanah', 'sangat', 'berat', 'semoga', 'sukses', 'jendral'], ['nkri', 'harga', 'mati'], ['saya', 'kaum'], ['headernya', 'mewah'], ['g20worldprolife'], ['presiden', 'bermunculan', 'sayang', 'tidak'], ['pasukan', 'masuk', 'monas', 'pasukan', 'guru', 'honorer', 'pasukan', 'ojol', 'lengkap', 'dengan', 'seragamnya', 'goodbye'], ['mantaf', 'maju', 'membangun', 'desa', 'jokowi'], ['ayoo', 'jokowi', 'maju', 'selesaikan', 'mangkrak', 'kesejahteraan', 'rakyat'], [], ['rakyat', 'rindu', 'sby'], ['khawatirkan', 'acara', 'jokowi', 'istiqlal'], ['saudaraku'], ['presiden', 'jokowi', 'resmikan', 'tol', 'bocimi', 'seksi', 'i'], ['presiden', 'jokowi', 'proses', 'sartifikat', 'tanah', 'dipercepat'], ['bangga', 'polri', 'penuh', 'cinta'], ['pendukung'], ['bang', 'beda', 'kelas', 'gameofthrones', 'dengan', 'gameofhoax', 'koalisiprabohong'], ['terimakasih', 'presiden', 'jokowi', 'berkah', 'dana', 'desa', 'desa', 'lebih', 'baik', 'jokowimembangundesa'], ['hina', 'jokowi', 'habib', 'bahar', 'bin', 'smith', 'terancam', 'penjara'], [], [], ['iwan', 'fals', 'ngaku', 'netral', 'jaman', 'orba', 'jokowi', 'keliatan', 'tergusur', 'ngaku', 'netral'], ['nissa', 'sabyan', 'jokowi', 'muncul', 'maklumat'], ['ya', 'cek'], ['ceramah', 'bahar', 'smith', 'penuh'], [], ['sudah', 'nyontek'], ['enak', 'zaman'], ['bangga', 'polri', 'penuh', 'cinta', 'kasih', 'sayang'], ['enak', 'zaman'], ['kemarin', 'presiden', 'jokowi', 'membaca', 'alfatihah', 'rendahkan'], ['bbm', 'turun', 'jokowi', 'pencitraan', 'bbm', 'teriak', 'jokowi', 'tidak', 'pro', 'rakyat'], ['hidup', 'guru'], ['hebat', 'hasil', 'penyelidikan', 'polisi', 'bukti', 'fakta', 'dibil'], ['breaking', 'yusril', 'ihza', 'mahendra', 'dukungan', 'jokowi'], ['reuni', 'jokowi', 'diundang', 'prabowo', 'tamu', 'kehormatan'], ['pilpres', 'enak', 'pakai', 'sangat', 'jokowi', 'aamiin', 'didukung', 'partai', 'koalisi', 'prabowo', 'sandi'], ['ya', 'allah', 'merdu', 'suara', 'jokowi', 'menyanyikan', 'lagu', 'jaenudin', 'na', 'ciro'], ['saya', 'prihatin', 'orang2', 'enggak', 'puas', 'pemerintah', 'jokowi', 'melacurkan', 'logika', 'nuraninya', 'dengan'], ['andika', 'perkasa', 'dewan', 'adat', 'papua', 'tidak', 'percaya', 'jokowi'], ['presiden', 'jokowi', 'berhasil', 'menurunkan', 'ketimpangan', 'indonesia', 'pemerataan', 'pembangunan', 'berhasil', 'dicapai'], ['saudaraku'], ['reuni', 'padahal', 'faktanya', 'ummat', 'islam', 'dukung', 'jokowi'], ['mengabdi', 'rakyat', 'penuh', 'kedamain', 'oya', 'peresmian', 'jalan', 'desa', 'drainase', 'dengan', 'dana', 'desa', 'belum'], ['saya', 'prihatin', 'orang2', 'enggak', 'puas', 'pemerintah', 'jokowi', 'melacurkan', 'logika', 'nuraninya', 'dengan'], ['jokowi', 'best', 'twitter'], ['presiden', 'jokowi', 'resmikan', 'tol', 'bocimi', 'seksi', 'i'], ['bikin', 'saja', 'dangdutan', 'panitianya', 'kubu', 'jokowi'], ['ahok', 'dimusuhi', 'dianggap', 'china', 'keras'], ['astagfirullah', 'pertimbangan', 'tidak', 'undang', 'jokowi', 'karena', 'beliau', 'respect', 'dianggap', 'tidak'], ['alhamdulillah', 'wasyukurillah', 'indonesia', 'beruntung'], [], ['pengenalan', 'mencalon'], ['tidak', 'mending', 'dateng', 'kondangan', 'pernikahan', 'dapet', 'pahala'], ['jokowi', 'tidak', 'diundang', 'acara', 'prabowo', 'jadi', 'tamu', 'kehormatan', 'menyarankan', 'jokowi', 'tidak'], ['pemimpin', 'jokowi', 'widodo', 'menang', 'membongkar', 'kesenjangan', 'indonesia', 'pemerataan', 'penyusunan', 'berbuah'], [], ['terimakasih', 'aparat', 'negara', 'sipil', 'militer', 'polisi', 'palu', 'keras'], ['enak', 'zaman'], ['bangga', 'presiden', 'hati', 'memperjuangkan', 'hak', 'hak', 'rakyat'], ['jokowi', 'cinta', 'rakyatnya', 'jokowi1kalilagi', 'jokowilagi'], ['ratusan', 'advokat', 'deklarasikan', 'dukungan'], ['pilpres', 'enak', 'pakai', 'sangat', 'jokowi', 'aamiin', 'didukung', 'partai', 'koalisi', 'prabowo', 'sandi'], ['aneh'], ['maklum', 'bibir', 'dower', 'pipi', 'tembem', 'lagaknya', 'kebanci', 'bancian'], ['hina', 'jokowi', 'habib', 'bahar', 'bin', 'smith', 'terancam', 'penjara'], ['lagu', 'desaku', 'kucinta', 'semoga', 'dana', 'desa', 'energi', 'positif', 'masyarakat', 'desa'], ['rusak', 'tatanan', 'hukum', 'tangan', 'pdip', 'kepastian', 'hukum', 'dititik', 'nadir', 'dengan', 'memproduksi', 'pasal', 'karet'], ['rusak', 'tatanan', 'hukum', 'tangan', 'pdip', 'kepastian', 'hukum', 'dititik', 'nadir', 'dengan', 'memproduksi', 'pasal', 'karet'], ['ngapain', 'pake', 'undang', 'jokowi', 'kalau', 'undang', 'jokowi', 'ya', 'salah', 'sambung', 'jokowi', 'alumni', 'ugm', 'alumni'], ['enak', 'zaman'], ['enak', 'zaman'], ['oalah', 'prediksinya'], ['pemaki', 'jokowi', 'identik', 'nempel', 'cendana'], ['galau'], ['semoga', 'abri', 'polri', 'solid', 'bersinergi', 'menjaga', 'keamanan', 'negara', 'indonesia', 'baaraka'], ['jokowi', 'best', 'twitter'], ['ya', 'allah', 'merdu', 'suara', 'jokowi', 'menyanyikan', 'lagu', 'jaenudin', 'na', 'ciro'], ['ceramah', 'bahar', 'smith', 'penuh'], ['bisa', 'kali', 'share', 'mba', 'bu', 'faktor', 'pilih', 'beliau', 'terus', 'skrg'], ['yaa', 'ampuun', 'bertemu', 'jokowi'], ['ayo', 'netizen', 'polling', 'pilih', 'pilpres'], ['habib', 'bahar', 'bin', 'smith', 'menolak', 'maaf', 'terkait', 'ceramahnya', 'menyebut', 'jokowi', 'kayaknya', 'banci', 'jokowi', 'haid'], ['bermuka', 'tampan', 'cantik', 'jokowi'], ['hina', 'jokowi', 'habib', 'bahar', 'bin', 'smith', 'terancam', 'penjara'], ['emang', 'agamanya', 'sarankan', 'periksakan', 'psikiater'], ['part'], ['jokowi', 'kampanye', 'jabodetabek', 'reuni', 'monas'], ['jokowi', 'resmikan', 'tol', 'bocimi', 'seksi', 'i', 'ruas', 'berjaket', 'bomber'], ['reuni', 'jokowi', 'diundang', 'prabowo', 'tamu', 'kehormatan'], ['teriak', 'nyuruh', 'buy', 'back', 'indosat'], ['mangkrak', 'presiden', 'jokowi', 'resmikan', 'tol', 'bocimi', 'menteri', 'bumn', 'menteri', 'pupr'], ['nawacita', 'presiden', 'jokowi', 'preaiden', 'kebanggaan', 'rakyat', 'membangun', 'indonesia'], ['lihat', 'instagram', 'lihat', 'tagar', 'tol', 'bocimi', 'sangat', 'respect', 'kagum', 'hasil', 'kerja', 'keras'], ['memimpin', 'indonesia', 'presiden', 'jokowi', 'menorehkan', 'prestasi', 'presiden'], ['saya', 'prihatin', 'orang2', 'enggak', 'puas', 'pemerintah', 'jokowi', 'melacurkan', 'logika', 'nuraninya', 'dengan'], ['buka', 'mata'], ['habib', 'bahar', 'enggan', 'maaf', 'presiden', 'jokowi'], ['headernya', 'mewah'], ['emm'], [], ['jokowi', 'lempar', 'senyum', 'sumringah', 'prof', 'yusril', 'ihza', 'mahendra', 'diskusi', 'hukum'], ['presiden', 'bermunculan', 'sayang', 'tidak'], ['photobooth', 'sengaja', 'teras', 'metro', 'coffee', 'animo', 'masyarakat'], ['hina', 'jokowi', 'habib', 'bahar', 'bin', 'smith', 'terancam', 'penjara'], ['untung', 'jokowi', 'orang', 'tidak', 'dipecat', 'menteri', 'bahaya', 'orang', 'orde'], ['birarin', 'enggak', 'diundang', 'acara', 'jokowi', 'undang', 'rakyat', 'indonesia', 'presiden', 'indonesia'], ['stop', 'tipu2', 'rakyat', 'dunia', 'akhirat'], [], ['indonesia', 'timur', 'papua', 'skala', 'prioritas', 'agenda', 'pembangunan', 'presiden', 'jokowi']]\n"
     ]
    }
   ],
   "source": [
    "for x in range(0, len(line)):\n",
    "    processedTweet = processTweet(line[x])\n",
    "#     print(processedTweet)\n",
    "    featureVector = getFeatureVector(processedTweet)\n",
    "#     print(featureVector)\n",
    "    replaceAbb = translator(featureVector)\n",
    "#     print(replaceAbb)\n",
    "    result_list.append(replaceAbb)   \n",
    "#     result_list.append(temp)\n",
    "#     line = fp.readline()\n",
    "#end loop\n",
    "print(result_list)"
   ]
  },
  {
   "cell_type": "code",
   "execution_count": 13,
   "metadata": {},
   "outputs": [],
   "source": [
    "tempStr = []\n",
    "for baris in range(0, len(result_list)):\n",
    "    tempo=\"\"\n",
    "    for kolom in range(0,len(result_list[baris])):\n",
    "        tempo = tempo+\" \"+result_list[baris][kolom]\n",
    "    tempStr.append(tempo)\n",
    "# print(type(tempStr))"
   ]
  },
  {
   "cell_type": "code",
   "execution_count": 14,
   "metadata": {},
   "outputs": [
    {
     "name": "stdout",
     "output_type": "stream",
     "text": [
      "0                   baca sejarah kenapa privatisasi bumn\n",
      "1       ancaman gugatan dilayangkan partai berkarya j...\n",
      "2            presiden jokowi resmikan tol bocimi seksi i\n",
      "3       kalau orang rajin sholat puasa trus rajin ngi...\n",
      "4         deklarasi dukung insya allah diumumkan januari\n",
      "5                habib bahar enggan maaf presiden jokowi\n",
      "6                                             enak zaman\n",
      "7       dana desa meningkatkan infrastruktur desa des...\n",
      "8       pasukan masuk monas pasukan guru honorer pasu...\n",
      "9                                                       \n",
      "10                                                  part\n",
      "11      dana desa meningkatkan infrastruktur desa des...\n",
      "12          ancaman politik jokowi semangatnya persatuan\n",
      "13      reuniakbar212dimonas kampanye prabowo memakai...\n",
      "14      account oposisi pemerintah block dukung jokow...\n",
      "15                 bangga polri penuh cinta kasih sayang\n",
      "16      prabowo subianto didukung anak cucu jendral s...\n",
      "17                                             saya kaum\n",
      "18                             mantap bikinindonesiamaju\n",
      "19      hina jokowi habib bahar bin smith terancam pe...\n",
      "20      desa hebat indonesia kuat jokowimembangundesa...\n",
      "21      merayakan guru nasional stadion pakansari bog...\n",
      "22                                                jokowi\n",
      "23                 bangga polri penuh cinta kasih sayang\n",
      "24                 jokowi membangun indonesia jokowilagi\n",
      "25                        teriak nyuruh buy back indosat\n",
      "26      terima kasih proyek mangkrak kelar sesi presi...\n",
      "27        deklarasi dukung insya allah diumumkan januari\n",
      "28      resmikan sesi tol bocimi keheranan mangkrak p...\n",
      "29      kalau saja pemerintah tau bikin semangat mend...\n",
      "                             ...                        \n",
      "170                            yaa ampuun bertemu jokowi\n",
      "171                    ayo netizen polling pilih pilpres\n",
      "172     habib bahar bin smith menolak maaf terkait ce...\n",
      "173                         bermuka tampan cantik jokowi\n",
      "174     hina jokowi habib bahar bin smith terancam pe...\n",
      "175         emang agamanya sarankan periksakan psikiater\n",
      "176                                                 part\n",
      "177              jokowi kampanye jabodetabek reuni monas\n",
      "178     jokowi resmikan tol bocimi seksi i ruas berja...\n",
      "179        reuni jokowi diundang prabowo tamu kehormatan\n",
      "180                       teriak nyuruh buy back indosat\n",
      "181     mangkrak presiden jokowi resmikan tol bocimi ...\n",
      "182     nawacita presiden jokowi preaiden kebanggaan ...\n",
      "183     lihat instagram lihat tagar tol bocimi sangat...\n",
      "184     memimpin indonesia presiden jokowi menorehkan...\n",
      "185     saya prihatin orang2 enggak puas pemerintah j...\n",
      "186                                            buka mata\n",
      "187              habib bahar enggan maaf presiden jokowi\n",
      "188                                      headernya mewah\n",
      "189                                                  emm\n",
      "190                                                     \n",
      "191     jokowi lempar senyum sumringah prof yusril ih...\n",
      "192                    presiden bermunculan sayang tidak\n",
      "193     photobooth sengaja teras metro coffee animo m...\n",
      "194     hina jokowi habib bahar bin smith terancam pe...\n",
      "195     untung jokowi orang tidak dipecat menteri bah...\n",
      "196     birarin enggak diundang acara jokowi undang r...\n",
      "197                      stop tipu2 rakyat dunia akhirat\n",
      "198                                                     \n",
      "199     indonesia timur papua skala prioritas agenda ...\n",
      "Name: Mentions, Length: 200, dtype: object\n"
     ]
    }
   ],
   "source": [
    "tempData = df['Mentions']\n",
    "for x in range(0,len(tempStr)):\n",
    "    df['Mentions'][x] = tempStr[x]\n",
    "#     tempData.replace(x,tempStr[x])\n",
    "\n",
    "print(df['Mentions'])\n"
   ]
  },
  {
   "cell_type": "code",
   "execution_count": 43,
   "metadata": {},
   "outputs": [],
   "source": []
  },
  {
   "cell_type": "code",
   "execution_count": 20,
   "metadata": {},
   "outputs": [],
   "source": [
    "# mentions = df['Mentions']\n",
    "# tipes = df['Type']\n",
    "# df['Date'] = df['Date']\n",
    "# dates = df['Date']\n",
    "# medias = df['Media']\n",
    "# sentiments = df['Sentiment']\n",
    "# # influencers = df['Influencer']\n",
    "# coba2 = []\n",
    "# ahai = []\n",
    "# # print(dates[0])\n",
    "# for i in range(0,len(dates)):\n",
    "#     ahai = datetime.strptime(dates[i], '%m/%d/%Y %H:%M')\n",
    "#     coba2.append(ahai)\n",
    "# ahai = datetime.strptime(\"12/01/2018 23:59\", '%m/%d/%Y %H:%M')\n",
    "# print(datetime.strptime(\"12/01/2018 23:59\", '%m/%d/%Y %H:%M'))\n",
    "# print(coba2)\n",
    "#     coba[i] = datetime.strptime(dates[i], '%m/%w/%Y %H:%M')\n",
    "    \n",
    "# print(dates[1])\n",
    "# Thu Jan 03 09:38:31 +0000 2019\n",
    "# print(coba)\n",
    "# print(datetime.strptime(\"Thu Jan 03 09:38:31 +0000 2019\", '%a %b %d %H:%M:%S +0000 %Y'))\n",
    "# print(datetime.strptime(dates[0], '%m/%w/%Y %H:%M'))\n",
    "# tempData = df['Mentions']\n",
    "# es = Elasticsearch()\n",
    "\n",
    "# for index, row in df.iterrows():\n",
    "#     es.index(index=\"logstash-a\",\n",
    "#                          # create/inject data into the cluster with index as 'logstash-a'\n",
    "#                          # create the naming pattern in Management/Kinaba later in order to push the data to a dashboard\n",
    "#                          doc_type=\"test-type\",\n",
    "#                          body={\n",
    "#                                 \"author\": row['Influencer'],\n",
    "#                                #parse the milliscond since epoch to elasticsearch and reformat into datatime stamp in Kibana later\n",
    "#                                \"date\": datetime.strptime(row['Date'], '%m/%d/%Y %H:%M'),\n",
    "#                                \"message\":row['Mentions'],\n",
    "#                                \"media\":row['Media'],\n",
    "#                                \"sentiment\": row['Sentiment']})"
   ]
  },
  {
   "cell_type": "code",
   "execution_count": 41,
   "metadata": {},
   "outputs": [
    {
     "name": "stderr",
     "output_type": "stream",
     "text": [
      "IOPub data rate exceeded.\n",
      "The notebook server will temporarily stop sending output\n",
      "to the client in order to avoid crashing it.\n",
      "To change this limit, set the config variable\n",
      "`--NotebookApp.iopub_data_rate_limit`.\n",
      "\n",
      "Current values:\n",
      "NotebookApp.iopub_data_rate_limit=1000000.0 (bytes/sec)\n",
      "NotebookApp.rate_limit_window=3.0 (secs)\n",
      "\n"
     ]
    }
   ],
   "source": [
    "print(coba2)"
   ]
  },
  {
   "cell_type": "code",
   "execution_count": null,
   "metadata": {},
   "outputs": [],
   "source": []
  },
  {
   "cell_type": "code",
   "execution_count": 60,
   "metadata": {},
   "outputs": [],
   "source": [
    "from sklearn.model_selection import train_test_split\n",
    "X_train, X_test, y_train, y_test = train_test_split(df['text'], \n",
    "                                                    df['sentiment'],\n",
    "                                                    random_state=0)"
   ]
  },
  {
   "cell_type": "code",
   "execution_count": 61,
   "metadata": {},
   "outputs": [
    {
     "data": {
      "text/plain": [
       "Int64Index([ 18, 170, 107,  98, 177, 182,   5, 146,  12, 152,  61, 125, 180,\n",
       "            154,  80,   7,  33, 130,  37,  74, 183, 145,  45, 159,  60, 123,\n",
       "            179, 185, 122,  44,  16,  55, 150, 111,  22, 189, 129,   4,  83,\n",
       "            106, 134,  66,  26, 113, 168,  63,   8,  75, 118, 143],\n",
       "           dtype='int64')"
      ]
     },
     "execution_count": 61,
     "metadata": {},
     "output_type": "execute_result"
    }
   ],
   "source": [
    "X_test.index"
   ]
  },
  {
   "cell_type": "code",
   "execution_count": 62,
   "metadata": {},
   "outputs": [
    {
     "name": "stdout",
     "output_type": "stream",
     "text": [
      "150 50\n"
     ]
    }
   ],
   "source": [
    "print(len(y_train), len(y_test))"
   ]
  },
  {
   "cell_type": "code",
   "execution_count": 78,
   "metadata": {},
   "outputs": [
    {
     "name": "stdout",
     "output_type": "stream",
     "text": [
      "X_train first entry:\n",
      "\n",
      "  versi ketua gp bendera berceceran diselematkan bendera tsb jatuh tidak semestinya bendera baik dibakar bakar dilipat simpan eh alasan bendera hti\n",
      "\n",
      "\n",
      "X_train shape:  (150,)\n"
     ]
    }
   ],
   "source": [
    "print('X_train first entry:\\n\\n', X_train.iloc[3])\n",
    "print('\\n\\nX_train shape: ', X_train.shape)"
   ]
  },
  {
   "cell_type": "code",
   "execution_count": 66,
   "metadata": {},
   "outputs": [
    {
     "data": {
      "text/plain": [
       "226"
      ]
     },
     "execution_count": 66,
     "metadata": {},
     "output_type": "execute_result"
    }
   ],
   "source": [
    "vect = TfidfVectorizer(min_df=5, stop_words='english', use_idf=True, ngram_range=(1,2)).fit(X_train)\n",
    "len(vect.get_feature_names())"
   ]
  },
  {
   "cell_type": "code",
   "execution_count": 67,
   "metadata": {},
   "outputs": [],
   "source": [
    "X_train_vectorized = vect.transform(X_train)"
   ]
  },
  {
   "cell_type": "code",
   "execution_count": 68,
   "metadata": {},
   "outputs": [
    {
     "name": "stdout",
     "output_type": "stream",
     "text": [
      "AUC:  0.9615384615384616\n",
      "Confusion Metrix:  [[24  0]\n",
      " [ 2 24]]\n",
      "ACC:  0.96\n"
     ]
    }
   ],
   "source": [
    "mnb = MultinomialNB()\n",
    "\n",
    "mnb.fit(X_train_vectorized, y_train)\n",
    "\n",
    "predictions = mnb.predict(vect.transform(X_test))\n",
    "\n",
    "print('AUC: ', roc_auc_score(y_test, predictions))\n",
    "print('Confusion Metrix: ', confusion_matrix(y_test,predictions))\n",
    "print('ACC: ', accuracy_score(y_test, predictions))"
   ]
  },
  {
   "cell_type": "code",
   "execution_count": 80,
   "metadata": {},
   "outputs": [
    {
     "name": "stdout",
     "output_type": "stream",
     "text": [
      "[0]\n"
     ]
    }
   ],
   "source": [
    "print(mnb.predict(vect.transform([' permintaan maaf saran gus solah proses hukum ngomong idiot tersangka tebang pilih pembakaran bendera tauhid melukai hati umat cepat ratna sarumpaet adillah'])))"
   ]
  },
  {
   "cell_type": "code",
   "execution_count": null,
   "metadata": {},
   "outputs": [],
   "source": []
  }
 ],
 "metadata": {
  "kernelspec": {
   "display_name": "Python 3",
   "language": "python",
   "name": "python3"
  },
  "language_info": {
   "codemirror_mode": {
    "name": "ipython",
    "version": 3
   },
   "file_extension": ".py",
   "mimetype": "text/x-python",
   "name": "python",
   "nbconvert_exporter": "python",
   "pygments_lexer": "ipython3",
   "version": "3.7.1"
  }
 },
 "nbformat": 4,
 "nbformat_minor": 2
}
