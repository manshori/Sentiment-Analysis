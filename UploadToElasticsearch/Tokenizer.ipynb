{
 "cells": [
  {
   "cell_type": "code",
   "execution_count": null,
   "metadata": {},
   "outputs": [],
   "source": [
    "import pandas\n",
    "import numpy\n",
    "import tqdm\n",
    "\n",
    "tqdm.tqdm.pandas(desc=\"progress-bar\")\n",
    "from matplotlib import pyplot as plt\n",
    "pandas.options.mode.chained_assignment = None\n",
    "\n",
    "\n",
    "from string import punctuation\n",
    "from random import shuffle\n",
    "from numpy import genfromtxt\n",
    "from spacy.lang.id import Indonesian\n",
    "\n",
    "import nltk\n",
    "nltk.download('punkt')\n",
    "from nltk.tokenize import word_tokenize, sent_tokenize\n",
    "nltk.download('stopwords')\n",
    "from nltk.corpus import stopwords\n",
    "\n",
    "# list of stopwords like articles, preposition\n",
    "stop = set(stopwords.words('english'))\n",
    "from string import punctuation"
   ]
  },
  {
   "cell_type": "code",
   "execution_count": null,
   "metadata": {},
   "outputs": [],
   "source": [
    "nlp = Indonesian()\n",
    "def isQualified(token):\n",
    "    cond = True\n",
    "    if (token.lemma_.lower() == 'rt'): cond = False # Qualify retweet\n",
    "    if ('@' in token.lemma_.lower()): cond = False # Qualify mention\n",
    "    if ('http' in token.lemma_.lower()): cond = False # Qualify url\n",
    "    if ('https' in token.lemma_.lower()): cond = False # Qualify url\n",
    "    if ('/t' in token.lemma_.lower()): cond = False # Qualify tag        \n",
    "    if ('\\n' in token.lemma_.lower()): cond = False # Qualify tag        \n",
    "    if ('//' in token.lemma_.lower()): cond = False # Qualify tag  \n",
    "    if ('=' in token.lemma_.lower()): cond = False # Qualify tag  \n",
    "    if (' ' in token.lemma_.lower()): cond = False # Qualify tag      \n",
    "    if (u'\"' in token.lemma_.lower()): cond = False # Qualify tag  \n",
    "    if (u's' in token.lemma_.lower()): cond = False # Qualify tag      \n",
    "    if (token.text.isdigit()): cond = False    \n",
    "    return cond"
   ]
  },
  {
   "cell_type": "code",
   "execution_count": null,
   "metadata": {},
   "outputs": [],
   "source": [
    "def tokenizer(text):\n",
    "    return [token.lemma_.lower() for token in nlp(text) if not token.is_stop and not token.is_punct and isQualified(token)]"
   ]
  },
  {
   "cell_type": "code",
   "execution_count": null,
   "metadata": {},
   "outputs": [],
   "source": [
    "def postprocess(data):\n",
    "    \n",
    "    data['tokens'] = data['article'].progress_map(tokenizer)  ## progress_map is a variant of the map function plus a progress bar. Handy to monitor DataFrame creations.\n",
    "\n",
    "    return data\n",
    "\n",
    "data = postprocess(newsdf)"
   ]
  }
 ],
 "metadata": {
  "kernelspec": {
   "display_name": "Python 3",
   "language": "python",
   "name": "python3"
  },
  "language_info": {
   "codemirror_mode": {
    "name": "ipython",
    "version": 3
   },
   "file_extension": ".py",
   "mimetype": "text/x-python",
   "name": "python",
   "nbconvert_exporter": "python",
   "pygments_lexer": "ipython3",
   "version": "3.6.5"
  }
 },
 "nbformat": 4,
 "nbformat_minor": 2
}
